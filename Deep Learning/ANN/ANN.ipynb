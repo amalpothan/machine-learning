{
  "nbformat": 4,
  "nbformat_minor": 0,
  "metadata": {
    "colab": {
      "provenance": []
    },
    "kernelspec": {
      "name": "python3",
      "display_name": "Python 3"
    },
    "language_info": {
      "name": "python"
    }
  },
  "cells": [
    {
      "cell_type": "code",
      "source": [
        "!pip install tensorflow"
      ],
      "metadata": {
        "colab": {
          "base_uri": "https://localhost:8080/"
        },
        "id": "DAJnrqB93b5v",
        "outputId": "4e985527-999b-4dcb-8494-d41ce9e6d013"
      },
      "execution_count": null,
      "outputs": [
        {
          "output_type": "stream",
          "name": "stdout",
          "text": [
            "Requirement already satisfied: tensorflow in /usr/local/lib/python3.10/dist-packages (2.15.0)\n",
            "Requirement already satisfied: absl-py>=1.0.0 in /usr/local/lib/python3.10/dist-packages (from tensorflow) (1.4.0)\n",
            "Requirement already satisfied: astunparse>=1.6.0 in /usr/local/lib/python3.10/dist-packages (from tensorflow) (1.6.3)\n",
            "Requirement already satisfied: flatbuffers>=23.5.26 in /usr/local/lib/python3.10/dist-packages (from tensorflow) (24.3.25)\n",
            "Requirement already satisfied: gast!=0.5.0,!=0.5.1,!=0.5.2,>=0.2.1 in /usr/local/lib/python3.10/dist-packages (from tensorflow) (0.5.4)\n",
            "Requirement already satisfied: google-pasta>=0.1.1 in /usr/local/lib/python3.10/dist-packages (from tensorflow) (0.2.0)\n",
            "Requirement already satisfied: h5py>=2.9.0 in /usr/local/lib/python3.10/dist-packages (from tensorflow) (3.9.0)\n",
            "Requirement already satisfied: libclang>=13.0.0 in /usr/local/lib/python3.10/dist-packages (from tensorflow) (18.1.1)\n",
            "Requirement already satisfied: ml-dtypes~=0.2.0 in /usr/local/lib/python3.10/dist-packages (from tensorflow) (0.2.0)\n",
            "Requirement already satisfied: numpy<2.0.0,>=1.23.5 in /usr/local/lib/python3.10/dist-packages (from tensorflow) (1.25.2)\n",
            "Requirement already satisfied: opt-einsum>=2.3.2 in /usr/local/lib/python3.10/dist-packages (from tensorflow) (3.3.0)\n",
            "Requirement already satisfied: packaging in /usr/local/lib/python3.10/dist-packages (from tensorflow) (24.0)\n",
            "Requirement already satisfied: protobuf!=4.21.0,!=4.21.1,!=4.21.2,!=4.21.3,!=4.21.4,!=4.21.5,<5.0.0dev,>=3.20.3 in /usr/local/lib/python3.10/dist-packages (from tensorflow) (3.20.3)\n",
            "Requirement already satisfied: setuptools in /usr/local/lib/python3.10/dist-packages (from tensorflow) (67.7.2)\n",
            "Requirement already satisfied: six>=1.12.0 in /usr/local/lib/python3.10/dist-packages (from tensorflow) (1.16.0)\n",
            "Requirement already satisfied: termcolor>=1.1.0 in /usr/local/lib/python3.10/dist-packages (from tensorflow) (2.4.0)\n",
            "Requirement already satisfied: typing-extensions>=3.6.6 in /usr/local/lib/python3.10/dist-packages (from tensorflow) (4.10.0)\n",
            "Requirement already satisfied: wrapt<1.15,>=1.11.0 in /usr/local/lib/python3.10/dist-packages (from tensorflow) (1.14.1)\n",
            "Requirement already satisfied: tensorflow-io-gcs-filesystem>=0.23.1 in /usr/local/lib/python3.10/dist-packages (from tensorflow) (0.36.0)\n",
            "Requirement already satisfied: grpcio<2.0,>=1.24.3 in /usr/local/lib/python3.10/dist-packages (from tensorflow) (1.62.1)\n",
            "Requirement already satisfied: tensorboard<2.16,>=2.15 in /usr/local/lib/python3.10/dist-packages (from tensorflow) (2.15.2)\n",
            "Requirement already satisfied: tensorflow-estimator<2.16,>=2.15.0 in /usr/local/lib/python3.10/dist-packages (from tensorflow) (2.15.0)\n",
            "Requirement already satisfied: keras<2.16,>=2.15.0 in /usr/local/lib/python3.10/dist-packages (from tensorflow) (2.15.0)\n",
            "Requirement already satisfied: wheel<1.0,>=0.23.0 in /usr/local/lib/python3.10/dist-packages (from astunparse>=1.6.0->tensorflow) (0.43.0)\n",
            "Requirement already satisfied: google-auth<3,>=1.6.3 in /usr/local/lib/python3.10/dist-packages (from tensorboard<2.16,>=2.15->tensorflow) (2.27.0)\n",
            "Requirement already satisfied: google-auth-oauthlib<2,>=0.5 in /usr/local/lib/python3.10/dist-packages (from tensorboard<2.16,>=2.15->tensorflow) (1.2.0)\n",
            "Requirement already satisfied: markdown>=2.6.8 in /usr/local/lib/python3.10/dist-packages (from tensorboard<2.16,>=2.15->tensorflow) (3.6)\n",
            "Requirement already satisfied: requests<3,>=2.21.0 in /usr/local/lib/python3.10/dist-packages (from tensorboard<2.16,>=2.15->tensorflow) (2.31.0)\n",
            "Requirement already satisfied: tensorboard-data-server<0.8.0,>=0.7.0 in /usr/local/lib/python3.10/dist-packages (from tensorboard<2.16,>=2.15->tensorflow) (0.7.2)\n",
            "Requirement already satisfied: werkzeug>=1.0.1 in /usr/local/lib/python3.10/dist-packages (from tensorboard<2.16,>=2.15->tensorflow) (3.0.2)\n",
            "Requirement already satisfied: cachetools<6.0,>=2.0.0 in /usr/local/lib/python3.10/dist-packages (from google-auth<3,>=1.6.3->tensorboard<2.16,>=2.15->tensorflow) (5.3.3)\n",
            "Requirement already satisfied: pyasn1-modules>=0.2.1 in /usr/local/lib/python3.10/dist-packages (from google-auth<3,>=1.6.3->tensorboard<2.16,>=2.15->tensorflow) (0.4.0)\n",
            "Requirement already satisfied: rsa<5,>=3.1.4 in /usr/local/lib/python3.10/dist-packages (from google-auth<3,>=1.6.3->tensorboard<2.16,>=2.15->tensorflow) (4.9)\n",
            "Requirement already satisfied: requests-oauthlib>=0.7.0 in /usr/local/lib/python3.10/dist-packages (from google-auth-oauthlib<2,>=0.5->tensorboard<2.16,>=2.15->tensorflow) (1.3.1)\n",
            "Requirement already satisfied: charset-normalizer<4,>=2 in /usr/local/lib/python3.10/dist-packages (from requests<3,>=2.21.0->tensorboard<2.16,>=2.15->tensorflow) (3.3.2)\n",
            "Requirement already satisfied: idna<4,>=2.5 in /usr/local/lib/python3.10/dist-packages (from requests<3,>=2.21.0->tensorboard<2.16,>=2.15->tensorflow) (3.6)\n",
            "Requirement already satisfied: urllib3<3,>=1.21.1 in /usr/local/lib/python3.10/dist-packages (from requests<3,>=2.21.0->tensorboard<2.16,>=2.15->tensorflow) (2.0.7)\n",
            "Requirement already satisfied: certifi>=2017.4.17 in /usr/local/lib/python3.10/dist-packages (from requests<3,>=2.21.0->tensorboard<2.16,>=2.15->tensorflow) (2024.2.2)\n",
            "Requirement already satisfied: MarkupSafe>=2.1.1 in /usr/local/lib/python3.10/dist-packages (from werkzeug>=1.0.1->tensorboard<2.16,>=2.15->tensorflow) (2.1.5)\n",
            "Requirement already satisfied: pyasn1<0.7.0,>=0.4.6 in /usr/local/lib/python3.10/dist-packages (from pyasn1-modules>=0.2.1->google-auth<3,>=1.6.3->tensorboard<2.16,>=2.15->tensorflow) (0.6.0)\n",
            "Requirement already satisfied: oauthlib>=3.0.0 in /usr/local/lib/python3.10/dist-packages (from requests-oauthlib>=0.7.0->google-auth-oauthlib<2,>=0.5->tensorboard<2.16,>=2.15->tensorflow) (3.2.2)\n"
          ]
        }
      ]
    },
    {
      "cell_type": "code",
      "execution_count": null,
      "metadata": {
        "id": "O5NSSt3o2eK3"
      },
      "outputs": [],
      "source": [
        "import tensorflow\n",
        "from keras.models import Sequential\n",
        "from keras.layers import Dense\n",
        "import numpy"
      ]
    },
    {
      "cell_type": "code",
      "source": [
        "tensorflow.__version__"
      ],
      "metadata": {
        "colab": {
          "base_uri": "https://localhost:8080/",
          "height": 36
        },
        "id": "A5sgUSPp2knh",
        "outputId": "bdaaa814-3056-44ea-cffc-60abb7050e21"
      },
      "execution_count": null,
      "outputs": [
        {
          "output_type": "execute_result",
          "data": {
            "text/plain": [
              "'2.15.0'"
            ],
            "application/vnd.google.colaboratory.intrinsic+json": {
              "type": "string"
            }
          },
          "metadata": {},
          "execution_count": 3
        }
      ]
    },
    {
      "cell_type": "code",
      "source": [
        "seed = 7\n",
        "numpy.random.seed(seed)\n",
        "data = numpy.loadtxt(\"/content/drive/MyDrive/Colab Notebooks/pima-indians-diabetes.csv\", delimiter=',')\n"
      ],
      "metadata": {
        "id": "BPn0eJfE32zp"
      },
      "execution_count": null,
      "outputs": []
    },
    {
      "cell_type": "code",
      "source": [
        "data"
      ],
      "metadata": {
        "colab": {
          "base_uri": "https://localhost:8080/"
        },
        "id": "LGCo9oPl6Aom",
        "outputId": "8a426fb4-cd44-40f3-9cd7-ea204d8de40e"
      },
      "execution_count": null,
      "outputs": [
        {
          "output_type": "execute_result",
          "data": {
            "text/plain": [
              "array([[  6.   , 148.   ,  72.   , ...,   0.627,  50.   ,   1.   ],\n",
              "       [  1.   ,  85.   ,  66.   , ...,   0.351,  31.   ,   0.   ],\n",
              "       [  8.   , 183.   ,  64.   , ...,   0.672,  32.   ,   1.   ],\n",
              "       ...,\n",
              "       [  5.   , 121.   ,  72.   , ...,   0.245,  30.   ,   0.   ],\n",
              "       [  1.   , 126.   ,  60.   , ...,   0.349,  47.   ,   1.   ],\n",
              "       [  1.   ,  93.   ,  70.   , ...,   0.315,  23.   ,   0.   ]])"
            ]
          },
          "metadata": {},
          "execution_count": 5
        }
      ]
    },
    {
      "cell_type": "code",
      "source": [
        "X = data[:,0:8]\n",
        "Y = data[:,8]"
      ],
      "metadata": {
        "id": "_TTlIZaW6N3F"
      },
      "execution_count": null,
      "outputs": []
    },
    {
      "cell_type": "code",
      "source": [
        "len(data)"
      ],
      "metadata": {
        "colab": {
          "base_uri": "https://localhost:8080/"
        },
        "id": "FbTRlVee6dwY",
        "outputId": "10a6adce-7c5c-4610-9ec6-9b4d7d662b2a"
      },
      "execution_count": null,
      "outputs": [
        {
          "output_type": "execute_result",
          "data": {
            "text/plain": [
              "768"
            ]
          },
          "metadata": {},
          "execution_count": 7
        }
      ]
    },
    {
      "cell_type": "code",
      "source": [
        "#total 39 hidden neurons\n",
        "model = Sequential()\n",
        "model.add(Dense(20, input_dim=8, activation='relu')) #1st layer, 1 input and 19 hidden\n",
        "model.add(Dense(10, activation='relu')) #2nd layer\n",
        "model.add(Dense(10, activation='relu')) #3rd layer\n",
        "model.add(Dense(1, activation='sigmoid')) #output layer"
      ],
      "metadata": {
        "id": "nQm7SWoo7Wn1"
      },
      "execution_count": null,
      "outputs": []
    },
    {
      "cell_type": "code",
      "source": [
        "model.compile(loss='binary_crossentropy', optimizer='adam', metrics=['accuracy'])"
      ],
      "metadata": {
        "id": "bLjBszXT8LyZ"
      },
      "execution_count": null,
      "outputs": []
    },
    {
      "cell_type": "code",
      "source": [
        "model.summary()"
      ],
      "metadata": {
        "colab": {
          "base_uri": "https://localhost:8080/"
        },
        "id": "Q_WmwB6N8dzk",
        "outputId": "3cc8d830-f046-40d6-83af-14496ac792c9"
      },
      "execution_count": null,
      "outputs": [
        {
          "output_type": "stream",
          "name": "stdout",
          "text": [
            "Model: \"sequential\"\n",
            "_________________________________________________________________\n",
            " Layer (type)                Output Shape              Param #   \n",
            "=================================================================\n",
            " dense (Dense)               (None, 20)                180       \n",
            "                                                                 \n",
            " dense_1 (Dense)             (None, 10)                210       \n",
            "                                                                 \n",
            " dense_2 (Dense)             (None, 10)                110       \n",
            "                                                                 \n",
            " dense_3 (Dense)             (None, 1)                 11        \n",
            "                                                                 \n",
            "=================================================================\n",
            "Total params: 511 (2.00 KB)\n",
            "Trainable params: 511 (2.00 KB)\n",
            "Non-trainable params: 0 (0.00 Byte)\n",
            "_________________________________________________________________\n"
          ]
        }
      ]
    },
    {
      "cell_type": "code",
      "source": [
        "history = model.fit(X,Y, validation_split=0.3, epochs=250, batch_size=10)"
      ],
      "metadata": {
        "colab": {
          "base_uri": "https://localhost:8080/"
        },
        "id": "Vu9ODQCY8gNj",
        "outputId": "16f0801f-96f1-4cf2-efdf-2cc1b3cbc391"
      },
      "execution_count": null,
      "outputs": [
        {
          "output_type": "stream",
          "name": "stdout",
          "text": [
            "Epoch 1/250\n",
            "54/54 [==============================] - 1s 9ms/step - loss: 3.7472 - accuracy: 0.6350 - val_loss: 0.8223 - val_accuracy: 0.4892\n",
            "Epoch 2/250\n",
            "54/54 [==============================] - 0s 4ms/step - loss: 0.7105 - accuracy: 0.5661 - val_loss: 0.7106 - val_accuracy: 0.6364\n",
            "Epoch 3/250\n",
            "54/54 [==============================] - 0s 3ms/step - loss: 0.6413 - accuracy: 0.6164 - val_loss: 0.6841 - val_accuracy: 0.5411\n",
            "Epoch 4/250\n",
            "54/54 [==============================] - 0s 3ms/step - loss: 0.6252 - accuracy: 0.6220 - val_loss: 0.6810 - val_accuracy: 0.5368\n",
            "Epoch 5/250\n",
            "54/54 [==============================] - 0s 3ms/step - loss: 0.6202 - accuracy: 0.6369 - val_loss: 0.6761 - val_accuracy: 0.5281\n",
            "Epoch 6/250\n",
            "54/54 [==============================] - 0s 5ms/step - loss: 0.6108 - accuracy: 0.6369 - val_loss: 0.6709 - val_accuracy: 0.5801\n",
            "Epoch 7/250\n",
            "54/54 [==============================] - 0s 4ms/step - loss: 0.6010 - accuracy: 0.6667 - val_loss: 0.6628 - val_accuracy: 0.5671\n",
            "Epoch 8/250\n",
            "54/54 [==============================] - 0s 5ms/step - loss: 0.5967 - accuracy: 0.6667 - val_loss: 0.6583 - val_accuracy: 0.6017\n",
            "Epoch 9/250\n",
            "54/54 [==============================] - 0s 9ms/step - loss: 0.5931 - accuracy: 0.6648 - val_loss: 0.6525 - val_accuracy: 0.6104\n",
            "Epoch 10/250\n",
            "54/54 [==============================] - 0s 5ms/step - loss: 0.5872 - accuracy: 0.6797 - val_loss: 0.6615 - val_accuracy: 0.6407\n",
            "Epoch 11/250\n",
            "54/54 [==============================] - 0s 5ms/step - loss: 0.5830 - accuracy: 0.6816 - val_loss: 0.6672 - val_accuracy: 0.5844\n",
            "Epoch 12/250\n",
            "54/54 [==============================] - 0s 4ms/step - loss: 0.6006 - accuracy: 0.6555 - val_loss: 0.6655 - val_accuracy: 0.5714\n",
            "Epoch 13/250\n",
            "54/54 [==============================] - 0s 4ms/step - loss: 0.5787 - accuracy: 0.7039 - val_loss: 0.6516 - val_accuracy: 0.6667\n",
            "Epoch 14/250\n",
            "54/54 [==============================] - 0s 4ms/step - loss: 0.5820 - accuracy: 0.6741 - val_loss: 0.6496 - val_accuracy: 0.6061\n",
            "Epoch 15/250\n",
            "54/54 [==============================] - 0s 4ms/step - loss: 0.5746 - accuracy: 0.7020 - val_loss: 0.6458 - val_accuracy: 0.6234\n",
            "Epoch 16/250\n",
            "54/54 [==============================] - 0s 4ms/step - loss: 0.5698 - accuracy: 0.6927 - val_loss: 0.6740 - val_accuracy: 0.6623\n",
            "Epoch 17/250\n",
            "54/54 [==============================] - 0s 4ms/step - loss: 0.5842 - accuracy: 0.6760 - val_loss: 0.6392 - val_accuracy: 0.6234\n",
            "Epoch 18/250\n",
            "54/54 [==============================] - 0s 4ms/step - loss: 0.5829 - accuracy: 0.7002 - val_loss: 0.6455 - val_accuracy: 0.6234\n",
            "Epoch 19/250\n",
            "54/54 [==============================] - 0s 4ms/step - loss: 0.5710 - accuracy: 0.6965 - val_loss: 0.6407 - val_accuracy: 0.6234\n",
            "Epoch 20/250\n",
            "54/54 [==============================] - 0s 9ms/step - loss: 0.5797 - accuracy: 0.6741 - val_loss: 0.6517 - val_accuracy: 0.6407\n",
            "Epoch 21/250\n",
            "54/54 [==============================] - 0s 5ms/step - loss: 0.5795 - accuracy: 0.6629 - val_loss: 0.6496 - val_accuracy: 0.6580\n",
            "Epoch 22/250\n",
            "54/54 [==============================] - 0s 4ms/step - loss: 0.5598 - accuracy: 0.7058 - val_loss: 0.6531 - val_accuracy: 0.6061\n",
            "Epoch 23/250\n",
            "54/54 [==============================] - 0s 5ms/step - loss: 0.5700 - accuracy: 0.6983 - val_loss: 0.6637 - val_accuracy: 0.6710\n",
            "Epoch 24/250\n",
            "54/54 [==============================] - 0s 6ms/step - loss: 0.5682 - accuracy: 0.6983 - val_loss: 0.6375 - val_accuracy: 0.5844\n",
            "Epoch 25/250\n",
            "54/54 [==============================] - 0s 5ms/step - loss: 0.5639 - accuracy: 0.6909 - val_loss: 0.6384 - val_accuracy: 0.6450\n",
            "Epoch 26/250\n",
            "54/54 [==============================] - 0s 5ms/step - loss: 0.5731 - accuracy: 0.6816 - val_loss: 0.6605 - val_accuracy: 0.5887\n",
            "Epoch 27/250\n",
            "54/54 [==============================] - 0s 5ms/step - loss: 0.5665 - accuracy: 0.6778 - val_loss: 0.6396 - val_accuracy: 0.6320\n",
            "Epoch 28/250\n",
            "54/54 [==============================] - 0s 5ms/step - loss: 0.5568 - accuracy: 0.7169 - val_loss: 0.6354 - val_accuracy: 0.6407\n",
            "Epoch 29/250\n",
            "54/54 [==============================] - 0s 4ms/step - loss: 0.5554 - accuracy: 0.7058 - val_loss: 0.6339 - val_accuracy: 0.6364\n",
            "Epoch 30/250\n",
            "54/54 [==============================] - 0s 6ms/step - loss: 0.5710 - accuracy: 0.7020 - val_loss: 0.6316 - val_accuracy: 0.6364\n",
            "Epoch 31/250\n",
            "54/54 [==============================] - 0s 6ms/step - loss: 0.5593 - accuracy: 0.7020 - val_loss: 0.6356 - val_accuracy: 0.6407\n",
            "Epoch 32/250\n",
            "54/54 [==============================] - 0s 5ms/step - loss: 0.5467 - accuracy: 0.7169 - val_loss: 0.6829 - val_accuracy: 0.6926\n",
            "Epoch 33/250\n",
            "54/54 [==============================] - 0s 7ms/step - loss: 0.5727 - accuracy: 0.7076 - val_loss: 0.6341 - val_accuracy: 0.6147\n",
            "Epoch 34/250\n",
            "54/54 [==============================] - 0s 5ms/step - loss: 0.5608 - accuracy: 0.6909 - val_loss: 0.6355 - val_accuracy: 0.5974\n",
            "Epoch 35/250\n",
            "54/54 [==============================] - 0s 5ms/step - loss: 0.5488 - accuracy: 0.6946 - val_loss: 0.6341 - val_accuracy: 0.6407\n",
            "Epoch 36/250\n",
            "54/54 [==============================] - 0s 5ms/step - loss: 0.5514 - accuracy: 0.7020 - val_loss: 0.6420 - val_accuracy: 0.6234\n",
            "Epoch 37/250\n",
            "54/54 [==============================] - 0s 6ms/step - loss: 0.5515 - accuracy: 0.7020 - val_loss: 0.6459 - val_accuracy: 0.6753\n",
            "Epoch 38/250\n",
            "54/54 [==============================] - 0s 4ms/step - loss: 0.5530 - accuracy: 0.6927 - val_loss: 0.6401 - val_accuracy: 0.6667\n",
            "Epoch 39/250\n",
            "54/54 [==============================] - 0s 5ms/step - loss: 0.5497 - accuracy: 0.7132 - val_loss: 0.6320 - val_accuracy: 0.6364\n",
            "Epoch 40/250\n",
            "54/54 [==============================] - 0s 6ms/step - loss: 0.5473 - accuracy: 0.7020 - val_loss: 0.6412 - val_accuracy: 0.6580\n",
            "Epoch 41/250\n",
            "54/54 [==============================] - 0s 5ms/step - loss: 0.5429 - accuracy: 0.7095 - val_loss: 0.6399 - val_accuracy: 0.6407\n",
            "Epoch 42/250\n",
            "54/54 [==============================] - 0s 6ms/step - loss: 0.5544 - accuracy: 0.7076 - val_loss: 0.6296 - val_accuracy: 0.6364\n",
            "Epoch 43/250\n",
            "54/54 [==============================] - 0s 8ms/step - loss: 0.5395 - accuracy: 0.7188 - val_loss: 0.6325 - val_accuracy: 0.6710\n",
            "Epoch 44/250\n",
            "54/54 [==============================] - 0s 7ms/step - loss: 0.5490 - accuracy: 0.7244 - val_loss: 0.6371 - val_accuracy: 0.6450\n",
            "Epoch 45/250\n",
            "54/54 [==============================] - 0s 6ms/step - loss: 0.5454 - accuracy: 0.7188 - val_loss: 0.6455 - val_accuracy: 0.5974\n",
            "Epoch 46/250\n",
            "54/54 [==============================] - 0s 5ms/step - loss: 0.5429 - accuracy: 0.7076 - val_loss: 0.6250 - val_accuracy: 0.6580\n",
            "Epoch 47/250\n",
            "54/54 [==============================] - 0s 5ms/step - loss: 0.5412 - accuracy: 0.7132 - val_loss: 0.6259 - val_accuracy: 0.6580\n",
            "Epoch 48/250\n",
            "54/54 [==============================] - 0s 6ms/step - loss: 0.5496 - accuracy: 0.6965 - val_loss: 0.6299 - val_accuracy: 0.6320\n",
            "Epoch 49/250\n",
            "54/54 [==============================] - 0s 6ms/step - loss: 0.5471 - accuracy: 0.6946 - val_loss: 0.6394 - val_accuracy: 0.6407\n",
            "Epoch 50/250\n",
            "54/54 [==============================] - 0s 7ms/step - loss: 0.5388 - accuracy: 0.7039 - val_loss: 0.6220 - val_accuracy: 0.6667\n",
            "Epoch 51/250\n",
            "54/54 [==============================] - 0s 5ms/step - loss: 0.5455 - accuracy: 0.7169 - val_loss: 0.6238 - val_accuracy: 0.6450\n",
            "Epoch 52/250\n",
            "54/54 [==============================] - 0s 7ms/step - loss: 0.5450 - accuracy: 0.7151 - val_loss: 0.6328 - val_accuracy: 0.6494\n",
            "Epoch 53/250\n",
            "54/54 [==============================] - 1s 10ms/step - loss: 0.5366 - accuracy: 0.7225 - val_loss: 0.6374 - val_accuracy: 0.6926\n",
            "Epoch 54/250\n",
            "54/54 [==============================] - 1s 11ms/step - loss: 0.5336 - accuracy: 0.7151 - val_loss: 0.6227 - val_accuracy: 0.6710\n",
            "Epoch 55/250\n",
            "54/54 [==============================] - 0s 8ms/step - loss: 0.5336 - accuracy: 0.7207 - val_loss: 0.6303 - val_accuracy: 0.6667\n",
            "Epoch 56/250\n",
            "54/54 [==============================] - 0s 7ms/step - loss: 0.5433 - accuracy: 0.7225 - val_loss: 0.6472 - val_accuracy: 0.5931\n",
            "Epoch 57/250\n",
            "54/54 [==============================] - 1s 10ms/step - loss: 0.5319 - accuracy: 0.7151 - val_loss: 0.6160 - val_accuracy: 0.6623\n",
            "Epoch 58/250\n",
            "54/54 [==============================] - 1s 12ms/step - loss: 0.5264 - accuracy: 0.7263 - val_loss: 0.6242 - val_accuracy: 0.6883\n",
            "Epoch 59/250\n",
            "54/54 [==============================] - 1s 11ms/step - loss: 0.5332 - accuracy: 0.7095 - val_loss: 0.6211 - val_accuracy: 0.6797\n",
            "Epoch 60/250\n",
            "54/54 [==============================] - 0s 8ms/step - loss: 0.5408 - accuracy: 0.7318 - val_loss: 0.6304 - val_accuracy: 0.6104\n",
            "Epoch 61/250\n",
            "54/54 [==============================] - 0s 9ms/step - loss: 0.5277 - accuracy: 0.7263 - val_loss: 0.6269 - val_accuracy: 0.6580\n",
            "Epoch 62/250\n",
            "54/54 [==============================] - 0s 4ms/step - loss: 0.5337 - accuracy: 0.7263 - val_loss: 0.6150 - val_accuracy: 0.7143\n",
            "Epoch 63/250\n",
            "54/54 [==============================] - 0s 5ms/step - loss: 0.5376 - accuracy: 0.7337 - val_loss: 0.6124 - val_accuracy: 0.6883\n",
            "Epoch 64/250\n",
            "54/54 [==============================] - 0s 5ms/step - loss: 0.5331 - accuracy: 0.7169 - val_loss: 0.6254 - val_accuracy: 0.6753\n",
            "Epoch 65/250\n",
            "54/54 [==============================] - 0s 9ms/step - loss: 0.5337 - accuracy: 0.7188 - val_loss: 0.6164 - val_accuracy: 0.6797\n",
            "Epoch 66/250\n",
            "54/54 [==============================] - 0s 8ms/step - loss: 0.5547 - accuracy: 0.7244 - val_loss: 0.6317 - val_accuracy: 0.6926\n",
            "Epoch 67/250\n",
            "54/54 [==============================] - 0s 6ms/step - loss: 0.5296 - accuracy: 0.7095 - val_loss: 0.6130 - val_accuracy: 0.6970\n",
            "Epoch 68/250\n",
            "54/54 [==============================] - 0s 5ms/step - loss: 0.5174 - accuracy: 0.7356 - val_loss: 0.6235 - val_accuracy: 0.7359\n",
            "Epoch 69/250\n",
            "54/54 [==============================] - 0s 7ms/step - loss: 0.5168 - accuracy: 0.7244 - val_loss: 0.5992 - val_accuracy: 0.6797\n",
            "Epoch 70/250\n",
            "54/54 [==============================] - 0s 7ms/step - loss: 0.5213 - accuracy: 0.7412 - val_loss: 0.6130 - val_accuracy: 0.6494\n",
            "Epoch 71/250\n",
            "54/54 [==============================] - 0s 5ms/step - loss: 0.5292 - accuracy: 0.7151 - val_loss: 0.6273 - val_accuracy: 0.6190\n",
            "Epoch 72/250\n",
            "54/54 [==============================] - 0s 8ms/step - loss: 0.5227 - accuracy: 0.7188 - val_loss: 0.6313 - val_accuracy: 0.6364\n",
            "Epoch 73/250\n",
            "54/54 [==============================] - 0s 8ms/step - loss: 0.5188 - accuracy: 0.7467 - val_loss: 0.6076 - val_accuracy: 0.6797\n",
            "Epoch 74/250\n",
            "54/54 [==============================] - 0s 6ms/step - loss: 0.5194 - accuracy: 0.7412 - val_loss: 0.6022 - val_accuracy: 0.6926\n",
            "Epoch 75/250\n",
            "54/54 [==============================] - 0s 7ms/step - loss: 0.5193 - accuracy: 0.7151 - val_loss: 0.6257 - val_accuracy: 0.6970\n",
            "Epoch 76/250\n",
            "54/54 [==============================] - 0s 6ms/step - loss: 0.5007 - accuracy: 0.7561 - val_loss: 0.6250 - val_accuracy: 0.6190\n",
            "Epoch 77/250\n",
            "54/54 [==============================] - 1s 13ms/step - loss: 0.5185 - accuracy: 0.7058 - val_loss: 0.6140 - val_accuracy: 0.6190\n",
            "Epoch 78/250\n",
            "54/54 [==============================] - 0s 7ms/step - loss: 0.5171 - accuracy: 0.7598 - val_loss: 0.6145 - val_accuracy: 0.6234\n",
            "Epoch 79/250\n",
            "54/54 [==============================] - 0s 6ms/step - loss: 0.5235 - accuracy: 0.7188 - val_loss: 0.6171 - val_accuracy: 0.6970\n",
            "Epoch 80/250\n",
            "54/54 [==============================] - 0s 7ms/step - loss: 0.5115 - accuracy: 0.7300 - val_loss: 0.6109 - val_accuracy: 0.7100\n",
            "Epoch 81/250\n",
            "54/54 [==============================] - 0s 8ms/step - loss: 0.5071 - accuracy: 0.7505 - val_loss: 0.6242 - val_accuracy: 0.7229\n",
            "Epoch 82/250\n",
            "54/54 [==============================] - 0s 4ms/step - loss: 0.5018 - accuracy: 0.7579 - val_loss: 0.6113 - val_accuracy: 0.6623\n",
            "Epoch 83/250\n",
            "54/54 [==============================] - 0s 3ms/step - loss: 0.5056 - accuracy: 0.7635 - val_loss: 0.6043 - val_accuracy: 0.6710\n",
            "Epoch 84/250\n",
            "54/54 [==============================] - 0s 3ms/step - loss: 0.4999 - accuracy: 0.7356 - val_loss: 0.6283 - val_accuracy: 0.6320\n",
            "Epoch 85/250\n",
            "54/54 [==============================] - 0s 3ms/step - loss: 0.4931 - accuracy: 0.7523 - val_loss: 0.6119 - val_accuracy: 0.6753\n",
            "Epoch 86/250\n",
            "54/54 [==============================] - 0s 3ms/step - loss: 0.5005 - accuracy: 0.7486 - val_loss: 0.6212 - val_accuracy: 0.6450\n",
            "Epoch 87/250\n",
            "54/54 [==============================] - 0s 3ms/step - loss: 0.4960 - accuracy: 0.7561 - val_loss: 0.6122 - val_accuracy: 0.6753\n",
            "Epoch 88/250\n",
            "54/54 [==============================] - 0s 3ms/step - loss: 0.5060 - accuracy: 0.7356 - val_loss: 0.6028 - val_accuracy: 0.6623\n",
            "Epoch 89/250\n",
            "54/54 [==============================] - 0s 3ms/step - loss: 0.4849 - accuracy: 0.7561 - val_loss: 0.6026 - val_accuracy: 0.6450\n",
            "Epoch 90/250\n",
            "54/54 [==============================] - 0s 3ms/step - loss: 0.4992 - accuracy: 0.7356 - val_loss: 0.6330 - val_accuracy: 0.6234\n",
            "Epoch 91/250\n",
            "54/54 [==============================] - 0s 3ms/step - loss: 0.5113 - accuracy: 0.7449 - val_loss: 0.6068 - val_accuracy: 0.6537\n",
            "Epoch 92/250\n",
            "54/54 [==============================] - 0s 4ms/step - loss: 0.4886 - accuracy: 0.7300 - val_loss: 0.6584 - val_accuracy: 0.5801\n",
            "Epoch 93/250\n",
            "54/54 [==============================] - 0s 5ms/step - loss: 0.4884 - accuracy: 0.7486 - val_loss: 0.5937 - val_accuracy: 0.6710\n",
            "Epoch 94/250\n",
            "54/54 [==============================] - 0s 5ms/step - loss: 0.4763 - accuracy: 0.7486 - val_loss: 0.5936 - val_accuracy: 0.6580\n",
            "Epoch 95/250\n",
            "54/54 [==============================] - 0s 4ms/step - loss: 0.4779 - accuracy: 0.7728 - val_loss: 0.6008 - val_accuracy: 0.6710\n",
            "Epoch 96/250\n",
            "54/54 [==============================] - 0s 4ms/step - loss: 0.4828 - accuracy: 0.7542 - val_loss: 0.6001 - val_accuracy: 0.6753\n",
            "Epoch 97/250\n",
            "54/54 [==============================] - 0s 4ms/step - loss: 0.4766 - accuracy: 0.7709 - val_loss: 0.6046 - val_accuracy: 0.7143\n",
            "Epoch 98/250\n",
            "54/54 [==============================] - 0s 4ms/step - loss: 0.4820 - accuracy: 0.7672 - val_loss: 0.6055 - val_accuracy: 0.6494\n",
            "Epoch 99/250\n",
            "54/54 [==============================] - 0s 5ms/step - loss: 0.4729 - accuracy: 0.7616 - val_loss: 0.5904 - val_accuracy: 0.6883\n",
            "Epoch 100/250\n",
            "54/54 [==============================] - 0s 4ms/step - loss: 0.4717 - accuracy: 0.7654 - val_loss: 0.5976 - val_accuracy: 0.7100\n",
            "Epoch 101/250\n",
            "54/54 [==============================] - 0s 4ms/step - loss: 0.4716 - accuracy: 0.7635 - val_loss: 0.6368 - val_accuracy: 0.6797\n",
            "Epoch 102/250\n",
            "54/54 [==============================] - 0s 4ms/step - loss: 0.4923 - accuracy: 0.7523 - val_loss: 0.6174 - val_accuracy: 0.6797\n",
            "Epoch 103/250\n",
            "54/54 [==============================] - 0s 4ms/step - loss: 0.4805 - accuracy: 0.7467 - val_loss: 0.5936 - val_accuracy: 0.7056\n",
            "Epoch 104/250\n",
            "54/54 [==============================] - 0s 5ms/step - loss: 0.4673 - accuracy: 0.7709 - val_loss: 0.6256 - val_accuracy: 0.6970\n",
            "Epoch 105/250\n",
            "54/54 [==============================] - 0s 5ms/step - loss: 0.5000 - accuracy: 0.7337 - val_loss: 0.5932 - val_accuracy: 0.7186\n",
            "Epoch 106/250\n",
            "54/54 [==============================] - 0s 4ms/step - loss: 0.4646 - accuracy: 0.7803 - val_loss: 0.6263 - val_accuracy: 0.7100\n",
            "Epoch 107/250\n",
            "54/54 [==============================] - 0s 4ms/step - loss: 0.4793 - accuracy: 0.7579 - val_loss: 0.6178 - val_accuracy: 0.7229\n",
            "Epoch 108/250\n",
            "54/54 [==============================] - 0s 3ms/step - loss: 0.4680 - accuracy: 0.7635 - val_loss: 0.5892 - val_accuracy: 0.7056\n",
            "Epoch 109/250\n",
            "54/54 [==============================] - 0s 3ms/step - loss: 0.4702 - accuracy: 0.7579 - val_loss: 0.6043 - val_accuracy: 0.6883\n",
            "Epoch 110/250\n",
            "54/54 [==============================] - 0s 3ms/step - loss: 0.4616 - accuracy: 0.7672 - val_loss: 0.5948 - val_accuracy: 0.6753\n",
            "Epoch 111/250\n",
            "54/54 [==============================] - 0s 4ms/step - loss: 0.4661 - accuracy: 0.7616 - val_loss: 0.6104 - val_accuracy: 0.6450\n",
            "Epoch 112/250\n",
            "54/54 [==============================] - 0s 3ms/step - loss: 0.4648 - accuracy: 0.7747 - val_loss: 0.6041 - val_accuracy: 0.6710\n",
            "Epoch 113/250\n",
            "54/54 [==============================] - 0s 4ms/step - loss: 0.4653 - accuracy: 0.7505 - val_loss: 0.6100 - val_accuracy: 0.6797\n",
            "Epoch 114/250\n",
            "54/54 [==============================] - 0s 3ms/step - loss: 0.4732 - accuracy: 0.7579 - val_loss: 0.6135 - val_accuracy: 0.6797\n",
            "Epoch 115/250\n",
            "54/54 [==============================] - 0s 4ms/step - loss: 0.4578 - accuracy: 0.7654 - val_loss: 0.6001 - val_accuracy: 0.6797\n",
            "Epoch 116/250\n",
            "54/54 [==============================] - 0s 3ms/step - loss: 0.4755 - accuracy: 0.7505 - val_loss: 0.6773 - val_accuracy: 0.6407\n",
            "Epoch 117/250\n",
            "54/54 [==============================] - 0s 3ms/step - loss: 0.4616 - accuracy: 0.7709 - val_loss: 0.5993 - val_accuracy: 0.6797\n",
            "Epoch 118/250\n",
            "54/54 [==============================] - 0s 3ms/step - loss: 0.4697 - accuracy: 0.7635 - val_loss: 0.6093 - val_accuracy: 0.6883\n",
            "Epoch 119/250\n",
            "54/54 [==============================] - 0s 4ms/step - loss: 0.4582 - accuracy: 0.7728 - val_loss: 0.6059 - val_accuracy: 0.7143\n",
            "Epoch 120/250\n",
            "54/54 [==============================] - 0s 3ms/step - loss: 0.4583 - accuracy: 0.7579 - val_loss: 0.6064 - val_accuracy: 0.6580\n",
            "Epoch 121/250\n",
            "54/54 [==============================] - 0s 4ms/step - loss: 0.4560 - accuracy: 0.7598 - val_loss: 0.6100 - val_accuracy: 0.6753\n",
            "Epoch 122/250\n",
            "54/54 [==============================] - 0s 3ms/step - loss: 0.4671 - accuracy: 0.7672 - val_loss: 0.6114 - val_accuracy: 0.7273\n",
            "Epoch 123/250\n",
            "54/54 [==============================] - 0s 4ms/step - loss: 0.4588 - accuracy: 0.7616 - val_loss: 0.6111 - val_accuracy: 0.6753\n",
            "Epoch 124/250\n",
            "54/54 [==============================] - 0s 3ms/step - loss: 0.4520 - accuracy: 0.7728 - val_loss: 0.6136 - val_accuracy: 0.7013\n",
            "Epoch 125/250\n",
            "54/54 [==============================] - 0s 3ms/step - loss: 0.4654 - accuracy: 0.7542 - val_loss: 0.5972 - val_accuracy: 0.6797\n",
            "Epoch 126/250\n",
            "54/54 [==============================] - 0s 3ms/step - loss: 0.4539 - accuracy: 0.7784 - val_loss: 0.5923 - val_accuracy: 0.7013\n",
            "Epoch 127/250\n",
            "54/54 [==============================] - 0s 3ms/step - loss: 0.4515 - accuracy: 0.7858 - val_loss: 0.6078 - val_accuracy: 0.6710\n",
            "Epoch 128/250\n",
            "54/54 [==============================] - 0s 3ms/step - loss: 0.4481 - accuracy: 0.7635 - val_loss: 0.6212 - val_accuracy: 0.7143\n",
            "Epoch 129/250\n",
            "54/54 [==============================] - 0s 3ms/step - loss: 0.4554 - accuracy: 0.7672 - val_loss: 0.5981 - val_accuracy: 0.6797\n",
            "Epoch 130/250\n",
            "54/54 [==============================] - 0s 3ms/step - loss: 0.4551 - accuracy: 0.7784 - val_loss: 0.5937 - val_accuracy: 0.7100\n",
            "Epoch 131/250\n",
            "54/54 [==============================] - 0s 3ms/step - loss: 0.4475 - accuracy: 0.7784 - val_loss: 0.6233 - val_accuracy: 0.6840\n",
            "Epoch 132/250\n",
            "54/54 [==============================] - 0s 3ms/step - loss: 0.4446 - accuracy: 0.7765 - val_loss: 0.6392 - val_accuracy: 0.7100\n",
            "Epoch 133/250\n",
            "54/54 [==============================] - 0s 3ms/step - loss: 0.4592 - accuracy: 0.7747 - val_loss: 0.6039 - val_accuracy: 0.6970\n",
            "Epoch 134/250\n",
            "54/54 [==============================] - 0s 3ms/step - loss: 0.4407 - accuracy: 0.7952 - val_loss: 0.6074 - val_accuracy: 0.7143\n",
            "Epoch 135/250\n",
            "54/54 [==============================] - 0s 3ms/step - loss: 0.4538 - accuracy: 0.7803 - val_loss: 0.6113 - val_accuracy: 0.6710\n",
            "Epoch 136/250\n",
            "54/54 [==============================] - 0s 4ms/step - loss: 0.4442 - accuracy: 0.7803 - val_loss: 0.5970 - val_accuracy: 0.6970\n",
            "Epoch 137/250\n",
            "54/54 [==============================] - 0s 3ms/step - loss: 0.4688 - accuracy: 0.7505 - val_loss: 0.5984 - val_accuracy: 0.7056\n",
            "Epoch 138/250\n",
            "54/54 [==============================] - 0s 4ms/step - loss: 0.4546 - accuracy: 0.7672 - val_loss: 0.5849 - val_accuracy: 0.7056\n",
            "Epoch 139/250\n",
            "54/54 [==============================] - 0s 3ms/step - loss: 0.4484 - accuracy: 0.7728 - val_loss: 0.6211 - val_accuracy: 0.6797\n",
            "Epoch 140/250\n",
            "54/54 [==============================] - 0s 3ms/step - loss: 0.4477 - accuracy: 0.7914 - val_loss: 0.6110 - val_accuracy: 0.7229\n",
            "Epoch 141/250\n",
            "54/54 [==============================] - 0s 4ms/step - loss: 0.4406 - accuracy: 0.7840 - val_loss: 0.5875 - val_accuracy: 0.7013\n",
            "Epoch 142/250\n",
            "54/54 [==============================] - 0s 4ms/step - loss: 0.4448 - accuracy: 0.7933 - val_loss: 0.5972 - val_accuracy: 0.6840\n",
            "Epoch 143/250\n",
            "54/54 [==============================] - 0s 3ms/step - loss: 0.4557 - accuracy: 0.7784 - val_loss: 0.6097 - val_accuracy: 0.6667\n",
            "Epoch 144/250\n",
            "54/54 [==============================] - 0s 4ms/step - loss: 0.4423 - accuracy: 0.7821 - val_loss: 0.6171 - val_accuracy: 0.7013\n",
            "Epoch 145/250\n",
            "54/54 [==============================] - 0s 3ms/step - loss: 0.4449 - accuracy: 0.7896 - val_loss: 0.5972 - val_accuracy: 0.7229\n",
            "Epoch 146/250\n",
            "54/54 [==============================] - 0s 3ms/step - loss: 0.4500 - accuracy: 0.7635 - val_loss: 0.6116 - val_accuracy: 0.7359\n",
            "Epoch 147/250\n",
            "54/54 [==============================] - 0s 3ms/step - loss: 0.4474 - accuracy: 0.7765 - val_loss: 0.6257 - val_accuracy: 0.6450\n",
            "Epoch 148/250\n",
            "54/54 [==============================] - 0s 3ms/step - loss: 0.4394 - accuracy: 0.7821 - val_loss: 0.5927 - val_accuracy: 0.6797\n",
            "Epoch 149/250\n",
            "54/54 [==============================] - 0s 3ms/step - loss: 0.4326 - accuracy: 0.7952 - val_loss: 0.6053 - val_accuracy: 0.6926\n",
            "Epoch 150/250\n",
            "54/54 [==============================] - 0s 3ms/step - loss: 0.4320 - accuracy: 0.7952 - val_loss: 0.6328 - val_accuracy: 0.6883\n",
            "Epoch 151/250\n",
            "54/54 [==============================] - 0s 4ms/step - loss: 0.4414 - accuracy: 0.7858 - val_loss: 0.5993 - val_accuracy: 0.7143\n",
            "Epoch 152/250\n",
            "54/54 [==============================] - 0s 3ms/step - loss: 0.4403 - accuracy: 0.7821 - val_loss: 0.6060 - val_accuracy: 0.7013\n",
            "Epoch 153/250\n",
            "54/54 [==============================] - 0s 3ms/step - loss: 0.4416 - accuracy: 0.7784 - val_loss: 0.6068 - val_accuracy: 0.7056\n",
            "Epoch 154/250\n",
            "54/54 [==============================] - 0s 3ms/step - loss: 0.4466 - accuracy: 0.7672 - val_loss: 0.6048 - val_accuracy: 0.7273\n",
            "Epoch 155/250\n",
            "54/54 [==============================] - 0s 3ms/step - loss: 0.4345 - accuracy: 0.7970 - val_loss: 0.6196 - val_accuracy: 0.7056\n",
            "Epoch 156/250\n",
            "54/54 [==============================] - 0s 4ms/step - loss: 0.4367 - accuracy: 0.7784 - val_loss: 0.6090 - val_accuracy: 0.7056\n",
            "Epoch 157/250\n",
            "54/54 [==============================] - 0s 3ms/step - loss: 0.4396 - accuracy: 0.7765 - val_loss: 0.6094 - val_accuracy: 0.7359\n",
            "Epoch 158/250\n",
            "54/54 [==============================] - 0s 3ms/step - loss: 0.4401 - accuracy: 0.7635 - val_loss: 0.6013 - val_accuracy: 0.7273\n",
            "Epoch 159/250\n",
            "54/54 [==============================] - 0s 3ms/step - loss: 0.4341 - accuracy: 0.7858 - val_loss: 0.6245 - val_accuracy: 0.6710\n",
            "Epoch 160/250\n",
            "54/54 [==============================] - 0s 3ms/step - loss: 0.4394 - accuracy: 0.7747 - val_loss: 0.6056 - val_accuracy: 0.7143\n",
            "Epoch 161/250\n",
            "54/54 [==============================] - 0s 3ms/step - loss: 0.4460 - accuracy: 0.7691 - val_loss: 0.6082 - val_accuracy: 0.7056\n",
            "Epoch 162/250\n",
            "54/54 [==============================] - 0s 5ms/step - loss: 0.4396 - accuracy: 0.7803 - val_loss: 0.6078 - val_accuracy: 0.7143\n",
            "Epoch 163/250\n",
            "54/54 [==============================] - 0s 4ms/step - loss: 0.4290 - accuracy: 0.7821 - val_loss: 0.6077 - val_accuracy: 0.7186\n",
            "Epoch 164/250\n",
            "54/54 [==============================] - 0s 4ms/step - loss: 0.4318 - accuracy: 0.7989 - val_loss: 0.6084 - val_accuracy: 0.6926\n",
            "Epoch 165/250\n",
            "54/54 [==============================] - 0s 5ms/step - loss: 0.4246 - accuracy: 0.7914 - val_loss: 0.6132 - val_accuracy: 0.7143\n",
            "Epoch 166/250\n",
            "54/54 [==============================] - 0s 5ms/step - loss: 0.4278 - accuracy: 0.7858 - val_loss: 0.6178 - val_accuracy: 0.6623\n",
            "Epoch 167/250\n",
            "54/54 [==============================] - 0s 4ms/step - loss: 0.4439 - accuracy: 0.8045 - val_loss: 0.6021 - val_accuracy: 0.7446\n",
            "Epoch 168/250\n",
            "54/54 [==============================] - 0s 5ms/step - loss: 0.4222 - accuracy: 0.7821 - val_loss: 0.6418 - val_accuracy: 0.7186\n",
            "Epoch 169/250\n",
            "54/54 [==============================] - 0s 5ms/step - loss: 0.4337 - accuracy: 0.7784 - val_loss: 0.6065 - val_accuracy: 0.7143\n",
            "Epoch 170/250\n",
            "54/54 [==============================] - 0s 5ms/step - loss: 0.4288 - accuracy: 0.7877 - val_loss: 0.5956 - val_accuracy: 0.7273\n",
            "Epoch 171/250\n",
            "54/54 [==============================] - 0s 4ms/step - loss: 0.4357 - accuracy: 0.7840 - val_loss: 0.6014 - val_accuracy: 0.6710\n",
            "Epoch 172/250\n",
            "54/54 [==============================] - 0s 4ms/step - loss: 0.4239 - accuracy: 0.7933 - val_loss: 0.6151 - val_accuracy: 0.7013\n",
            "Epoch 173/250\n",
            "54/54 [==============================] - 0s 4ms/step - loss: 0.4192 - accuracy: 0.8063 - val_loss: 0.6473 - val_accuracy: 0.6667\n",
            "Epoch 174/250\n",
            "54/54 [==============================] - 0s 4ms/step - loss: 0.4240 - accuracy: 0.7840 - val_loss: 0.6040 - val_accuracy: 0.7100\n",
            "Epoch 175/250\n",
            "54/54 [==============================] - 0s 5ms/step - loss: 0.4285 - accuracy: 0.7821 - val_loss: 0.6358 - val_accuracy: 0.6580\n",
            "Epoch 176/250\n",
            "54/54 [==============================] - 0s 5ms/step - loss: 0.4319 - accuracy: 0.7877 - val_loss: 0.6197 - val_accuracy: 0.6926\n",
            "Epoch 177/250\n",
            "54/54 [==============================] - 0s 4ms/step - loss: 0.4407 - accuracy: 0.7709 - val_loss: 0.6320 - val_accuracy: 0.6710\n",
            "Epoch 178/250\n",
            "54/54 [==============================] - 0s 4ms/step - loss: 0.4258 - accuracy: 0.8026 - val_loss: 0.6119 - val_accuracy: 0.7143\n",
            "Epoch 179/250\n",
            "54/54 [==============================] - 0s 4ms/step - loss: 0.4192 - accuracy: 0.7858 - val_loss: 0.6051 - val_accuracy: 0.7316\n",
            "Epoch 180/250\n",
            "54/54 [==============================] - 0s 4ms/step - loss: 0.4218 - accuracy: 0.7952 - val_loss: 0.6113 - val_accuracy: 0.6926\n",
            "Epoch 181/250\n",
            "54/54 [==============================] - 0s 3ms/step - loss: 0.4258 - accuracy: 0.7747 - val_loss: 0.6207 - val_accuracy: 0.7229\n",
            "Epoch 182/250\n",
            "54/54 [==============================] - 0s 4ms/step - loss: 0.4224 - accuracy: 0.7989 - val_loss: 0.6097 - val_accuracy: 0.7143\n",
            "Epoch 183/250\n",
            "54/54 [==============================] - 0s 3ms/step - loss: 0.4164 - accuracy: 0.7952 - val_loss: 0.6112 - val_accuracy: 0.6926\n",
            "Epoch 184/250\n",
            "54/54 [==============================] - 0s 3ms/step - loss: 0.4162 - accuracy: 0.8026 - val_loss: 0.6221 - val_accuracy: 0.6883\n",
            "Epoch 185/250\n",
            "54/54 [==============================] - 0s 4ms/step - loss: 0.4187 - accuracy: 0.7784 - val_loss: 0.6149 - val_accuracy: 0.6883\n",
            "Epoch 186/250\n",
            "54/54 [==============================] - 0s 3ms/step - loss: 0.4135 - accuracy: 0.8119 - val_loss: 0.6331 - val_accuracy: 0.6710\n",
            "Epoch 187/250\n",
            "54/54 [==============================] - 0s 4ms/step - loss: 0.4190 - accuracy: 0.7784 - val_loss: 0.6136 - val_accuracy: 0.7273\n",
            "Epoch 188/250\n",
            "54/54 [==============================] - 0s 4ms/step - loss: 0.4118 - accuracy: 0.8007 - val_loss: 0.6158 - val_accuracy: 0.7056\n",
            "Epoch 189/250\n",
            "54/54 [==============================] - 0s 3ms/step - loss: 0.4188 - accuracy: 0.7933 - val_loss: 0.6133 - val_accuracy: 0.7013\n",
            "Epoch 190/250\n",
            "54/54 [==============================] - 0s 3ms/step - loss: 0.4256 - accuracy: 0.7858 - val_loss: 0.6090 - val_accuracy: 0.7316\n",
            "Epoch 191/250\n",
            "54/54 [==============================] - 0s 3ms/step - loss: 0.4103 - accuracy: 0.7914 - val_loss: 0.6694 - val_accuracy: 0.6407\n",
            "Epoch 192/250\n",
            "54/54 [==============================] - 0s 4ms/step - loss: 0.4268 - accuracy: 0.7840 - val_loss: 0.6650 - val_accuracy: 0.7013\n",
            "Epoch 193/250\n",
            "54/54 [==============================] - 0s 3ms/step - loss: 0.4170 - accuracy: 0.8007 - val_loss: 0.6298 - val_accuracy: 0.7229\n",
            "Epoch 194/250\n",
            "54/54 [==============================] - 0s 3ms/step - loss: 0.4044 - accuracy: 0.7970 - val_loss: 0.6576 - val_accuracy: 0.7056\n",
            "Epoch 195/250\n",
            "54/54 [==============================] - 0s 3ms/step - loss: 0.4276 - accuracy: 0.7877 - val_loss: 0.6308 - val_accuracy: 0.7489\n",
            "Epoch 196/250\n",
            "54/54 [==============================] - 0s 4ms/step - loss: 0.4215 - accuracy: 0.7989 - val_loss: 0.6357 - val_accuracy: 0.6970\n",
            "Epoch 197/250\n",
            "54/54 [==============================] - 0s 4ms/step - loss: 0.4137 - accuracy: 0.8007 - val_loss: 0.6158 - val_accuracy: 0.7013\n",
            "Epoch 198/250\n",
            "54/54 [==============================] - 0s 4ms/step - loss: 0.4081 - accuracy: 0.7952 - val_loss: 0.6191 - val_accuracy: 0.7100\n",
            "Epoch 199/250\n",
            "54/54 [==============================] - 0s 3ms/step - loss: 0.3986 - accuracy: 0.8138 - val_loss: 0.6317 - val_accuracy: 0.7186\n",
            "Epoch 200/250\n",
            "54/54 [==============================] - 0s 3ms/step - loss: 0.4155 - accuracy: 0.7989 - val_loss: 0.6403 - val_accuracy: 0.6753\n",
            "Epoch 201/250\n",
            "54/54 [==============================] - 0s 3ms/step - loss: 0.4163 - accuracy: 0.7803 - val_loss: 0.6241 - val_accuracy: 0.6883\n",
            "Epoch 202/250\n",
            "54/54 [==============================] - 0s 3ms/step - loss: 0.4139 - accuracy: 0.7858 - val_loss: 0.6247 - val_accuracy: 0.7316\n",
            "Epoch 203/250\n",
            "54/54 [==============================] - 0s 3ms/step - loss: 0.4022 - accuracy: 0.8045 - val_loss: 0.6395 - val_accuracy: 0.7143\n",
            "Epoch 204/250\n",
            "54/54 [==============================] - 0s 3ms/step - loss: 0.4288 - accuracy: 0.7970 - val_loss: 0.6430 - val_accuracy: 0.7186\n",
            "Epoch 205/250\n",
            "54/54 [==============================] - 0s 3ms/step - loss: 0.4263 - accuracy: 0.7877 - val_loss: 0.6340 - val_accuracy: 0.7143\n",
            "Epoch 206/250\n",
            "54/54 [==============================] - 0s 3ms/step - loss: 0.4115 - accuracy: 0.7877 - val_loss: 0.6612 - val_accuracy: 0.7100\n",
            "Epoch 207/250\n",
            "54/54 [==============================] - 0s 4ms/step - loss: 0.4212 - accuracy: 0.7952 - val_loss: 0.6298 - val_accuracy: 0.6970\n",
            "Epoch 208/250\n",
            "54/54 [==============================] - 0s 3ms/step - loss: 0.4174 - accuracy: 0.7933 - val_loss: 0.6074 - val_accuracy: 0.7316\n",
            "Epoch 209/250\n",
            "54/54 [==============================] - 0s 4ms/step - loss: 0.4167 - accuracy: 0.8007 - val_loss: 0.6175 - val_accuracy: 0.6667\n",
            "Epoch 210/250\n",
            "54/54 [==============================] - 0s 3ms/step - loss: 0.4216 - accuracy: 0.7989 - val_loss: 0.6236 - val_accuracy: 0.7186\n",
            "Epoch 211/250\n",
            "54/54 [==============================] - 0s 4ms/step - loss: 0.4254 - accuracy: 0.7933 - val_loss: 0.6108 - val_accuracy: 0.7056\n",
            "Epoch 212/250\n",
            "54/54 [==============================] - 0s 3ms/step - loss: 0.4078 - accuracy: 0.8063 - val_loss: 0.6249 - val_accuracy: 0.7013\n",
            "Epoch 213/250\n",
            "54/54 [==============================] - 0s 4ms/step - loss: 0.4053 - accuracy: 0.8007 - val_loss: 0.6337 - val_accuracy: 0.7143\n",
            "Epoch 214/250\n",
            "54/54 [==============================] - 0s 4ms/step - loss: 0.3988 - accuracy: 0.8119 - val_loss: 0.6213 - val_accuracy: 0.7056\n",
            "Epoch 215/250\n",
            "54/54 [==============================] - 0s 3ms/step - loss: 0.4021 - accuracy: 0.8138 - val_loss: 0.6269 - val_accuracy: 0.7143\n",
            "Epoch 216/250\n",
            "54/54 [==============================] - 0s 3ms/step - loss: 0.4136 - accuracy: 0.7914 - val_loss: 0.6730 - val_accuracy: 0.6797\n",
            "Epoch 217/250\n",
            "54/54 [==============================] - 0s 4ms/step - loss: 0.4118 - accuracy: 0.8045 - val_loss: 0.6163 - val_accuracy: 0.7229\n",
            "Epoch 218/250\n",
            "54/54 [==============================] - 0s 3ms/step - loss: 0.4010 - accuracy: 0.8045 - val_loss: 0.6618 - val_accuracy: 0.6623\n",
            "Epoch 219/250\n",
            "54/54 [==============================] - 0s 3ms/step - loss: 0.4241 - accuracy: 0.7821 - val_loss: 0.6389 - val_accuracy: 0.6883\n",
            "Epoch 220/250\n",
            "54/54 [==============================] - 0s 3ms/step - loss: 0.4087 - accuracy: 0.8063 - val_loss: 0.6376 - val_accuracy: 0.6840\n",
            "Epoch 221/250\n",
            "54/54 [==============================] - 0s 4ms/step - loss: 0.4014 - accuracy: 0.7970 - val_loss: 0.6799 - val_accuracy: 0.6753\n",
            "Epoch 222/250\n",
            "54/54 [==============================] - 0s 4ms/step - loss: 0.4016 - accuracy: 0.8026 - val_loss: 0.6504 - val_accuracy: 0.6970\n",
            "Epoch 223/250\n",
            "54/54 [==============================] - 0s 3ms/step - loss: 0.4239 - accuracy: 0.7877 - val_loss: 0.6650 - val_accuracy: 0.6883\n",
            "Epoch 224/250\n",
            "54/54 [==============================] - 0s 3ms/step - loss: 0.4032 - accuracy: 0.8026 - val_loss: 0.6606 - val_accuracy: 0.7013\n",
            "Epoch 225/250\n",
            "54/54 [==============================] - 0s 4ms/step - loss: 0.4159 - accuracy: 0.7952 - val_loss: 0.6258 - val_accuracy: 0.7013\n",
            "Epoch 226/250\n",
            "54/54 [==============================] - 0s 3ms/step - loss: 0.4087 - accuracy: 0.7970 - val_loss: 0.6381 - val_accuracy: 0.7056\n",
            "Epoch 227/250\n",
            "54/54 [==============================] - 0s 4ms/step - loss: 0.4058 - accuracy: 0.8101 - val_loss: 0.6756 - val_accuracy: 0.6883\n",
            "Epoch 228/250\n",
            "54/54 [==============================] - 0s 3ms/step - loss: 0.3932 - accuracy: 0.8026 - val_loss: 0.6517 - val_accuracy: 0.7316\n",
            "Epoch 229/250\n",
            "54/54 [==============================] - 0s 4ms/step - loss: 0.4046 - accuracy: 0.8101 - val_loss: 0.6431 - val_accuracy: 0.7143\n",
            "Epoch 230/250\n",
            "54/54 [==============================] - 0s 4ms/step - loss: 0.4013 - accuracy: 0.8175 - val_loss: 0.6653 - val_accuracy: 0.7100\n",
            "Epoch 231/250\n",
            "54/54 [==============================] - 0s 5ms/step - loss: 0.4011 - accuracy: 0.8007 - val_loss: 0.6962 - val_accuracy: 0.6883\n",
            "Epoch 232/250\n",
            "54/54 [==============================] - 0s 4ms/step - loss: 0.3908 - accuracy: 0.8231 - val_loss: 0.6440 - val_accuracy: 0.7316\n",
            "Epoch 233/250\n",
            "54/54 [==============================] - 0s 5ms/step - loss: 0.4254 - accuracy: 0.7933 - val_loss: 0.6461 - val_accuracy: 0.7359\n",
            "Epoch 234/250\n",
            "54/54 [==============================] - 0s 4ms/step - loss: 0.4036 - accuracy: 0.7952 - val_loss: 0.6436 - val_accuracy: 0.6926\n",
            "Epoch 235/250\n",
            "54/54 [==============================] - 0s 5ms/step - loss: 0.3969 - accuracy: 0.8026 - val_loss: 0.6597 - val_accuracy: 0.7056\n",
            "Epoch 236/250\n",
            "54/54 [==============================] - 0s 5ms/step - loss: 0.4081 - accuracy: 0.7840 - val_loss: 0.6844 - val_accuracy: 0.6926\n",
            "Epoch 237/250\n",
            "54/54 [==============================] - 0s 5ms/step - loss: 0.4075 - accuracy: 0.8082 - val_loss: 0.6698 - val_accuracy: 0.6970\n",
            "Epoch 238/250\n",
            "54/54 [==============================] - 0s 4ms/step - loss: 0.3950 - accuracy: 0.7952 - val_loss: 0.6780 - val_accuracy: 0.7100\n",
            "Epoch 239/250\n",
            "54/54 [==============================] - 0s 4ms/step - loss: 0.3959 - accuracy: 0.8119 - val_loss: 0.7071 - val_accuracy: 0.6710\n",
            "Epoch 240/250\n",
            "54/54 [==============================] - 0s 4ms/step - loss: 0.4050 - accuracy: 0.8082 - val_loss: 0.6622 - val_accuracy: 0.7273\n",
            "Epoch 241/250\n",
            "54/54 [==============================] - 0s 5ms/step - loss: 0.3939 - accuracy: 0.8026 - val_loss: 0.6600 - val_accuracy: 0.6883\n",
            "Epoch 242/250\n",
            "54/54 [==============================] - 0s 5ms/step - loss: 0.3884 - accuracy: 0.8231 - val_loss: 0.6650 - val_accuracy: 0.7100\n",
            "Epoch 243/250\n",
            "54/54 [==============================] - 0s 4ms/step - loss: 0.4033 - accuracy: 0.8045 - val_loss: 0.6507 - val_accuracy: 0.7013\n",
            "Epoch 244/250\n",
            "54/54 [==============================] - 0s 5ms/step - loss: 0.3838 - accuracy: 0.8156 - val_loss: 0.7194 - val_accuracy: 0.6753\n",
            "Epoch 245/250\n",
            "54/54 [==============================] - 0s 5ms/step - loss: 0.4071 - accuracy: 0.7989 - val_loss: 0.6808 - val_accuracy: 0.7013\n",
            "Epoch 246/250\n",
            "54/54 [==============================] - 0s 3ms/step - loss: 0.4158 - accuracy: 0.7989 - val_loss: 0.6570 - val_accuracy: 0.7316\n",
            "Epoch 247/250\n",
            "54/54 [==============================] - 0s 3ms/step - loss: 0.4004 - accuracy: 0.8156 - val_loss: 0.6474 - val_accuracy: 0.7056\n",
            "Epoch 248/250\n",
            "54/54 [==============================] - 0s 4ms/step - loss: 0.3921 - accuracy: 0.8026 - val_loss: 0.6792 - val_accuracy: 0.6970\n",
            "Epoch 249/250\n",
            "54/54 [==============================] - 0s 3ms/step - loss: 0.3994 - accuracy: 0.7914 - val_loss: 0.7158 - val_accuracy: 0.6883\n",
            "Epoch 250/250\n",
            "54/54 [==============================] - 0s 4ms/step - loss: 0.4012 - accuracy: 0.8138 - val_loss: 0.6685 - val_accuracy: 0.6840\n"
          ]
        }
      ]
    },
    {
      "cell_type": "code",
      "source": [
        "scores = model.evaluate(X, Y)\n",
        "print(\"%s: %.2f%%\" % (model.metrics_names[1], scores[1]*100))"
      ],
      "metadata": {
        "colab": {
          "base_uri": "https://localhost:8080/"
        },
        "id": "WjTpycf99zPK",
        "outputId": "f5ecb74c-3b2f-4c33-9eb6-807a42b244c1"
      },
      "execution_count": null,
      "outputs": [
        {
          "output_type": "stream",
          "name": "stdout",
          "text": [
            "24/24 [==============================] - 0s 2ms/step - loss: 0.4681 - accuracy: 0.7826\n",
            "accuracy: 78.26%\n"
          ]
        }
      ]
    },
    {
      "cell_type": "code",
      "source": [
        "#visualize training history\n",
        "#list all data in history\n",
        "history.history.keys()"
      ],
      "metadata": {
        "colab": {
          "base_uri": "https://localhost:8080/"
        },
        "id": "r4ld2EKRyqMD",
        "outputId": "dc107ece-9717-4697-a552-4f570436781a"
      },
      "execution_count": null,
      "outputs": [
        {
          "output_type": "execute_result",
          "data": {
            "text/plain": [
              "dict_keys(['loss', 'accuracy', 'val_loss', 'val_accuracy'])"
            ]
          },
          "metadata": {},
          "execution_count": 13
        }
      ]
    },
    {
      "cell_type": "code",
      "source": [
        "#summarize history for accuracy\n",
        "import matplotlib.pyplot as plt\n",
        "plt.plot(history.history['accuracy'])\n",
        "plt.plot(history.history['val_accuracy'])\n",
        "plt.title('model accuracy')\n",
        "plt.ylabel('accuracy')\n",
        "plt.xlabel('epoch')\n",
        "plt.legend(['train','test'], loc='upper left')\n",
        "plt.show()\n",
        "\n",
        "#Summarize history for loss\n",
        "plt.plot(history.history['loss'])\n",
        "plt.plot(history.history['val_loss'])\n",
        "plt.title('model loss')\n",
        "plt.ylabel('loss')\n",
        "plt.xlabel('epoch')\n",
        "plt.legend(['train','test'], loc='upper left')\n",
        "plt.show()"
      ],
      "metadata": {
        "colab": {
          "base_uri": "https://localhost:8080/",
          "height": 927
        },
        "id": "EOs81HL5ztTu",
        "outputId": "9383f054-a263-4651-9141-a0e87dfac016"
      },
      "execution_count": null,
      "outputs": [
        {
          "output_type": "display_data",
          "data": {
            "text/plain": [
              "<Figure size 640x480 with 1 Axes>"
            ],
            "image/png": "[encoded data removed]"
          },
          "metadata": {}
        },
        {
          "output_type": "display_data",
          "data": {
            "text/plain": [
              "<Figure size 640x480 with 1 Axes>"
            ],
            "image/png": "[encoded data removed]"
          },
          "metadata": {}
        }
      ]
    },
    {
      "cell_type": "code",
      "source": [],
      "metadata": {
        "id": "m5Yhn9WJz4HZ"
      },
      "execution_count": null,
      "outputs": []
    }
  ]
}