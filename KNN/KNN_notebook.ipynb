{
 "cells": [
  {
   "cell_type": "code",
   "execution_count": 28,
   "metadata": {},
   "outputs": [],
   "source": [
    "import numpy as np\n",
    "import pandas as pd\n",
    "import matplotlib.pyplot as plt\n",
    "from sklearn.preprocessing import LabelEncoder, StandardScaler\n",
    "from sklearn.model_selection import train_test_split\n",
    "from sklearn.neighbors import KNeighborsClassifier\n",
    "from sklearn.metrics import confusion_matrix, accuracy_score, classification_report"
   ]
  },
  {
   "cell_type": "code",
   "execution_count": 2,
   "metadata": {},
   "outputs": [
    {
     "data": {
      "text/html": [
       "<div>\n",
       "<style scoped>\n",
       "    .dataframe tbody tr th:only-of-type {\n",
       "        vertical-align: middle;\n",
       "    }\n",
       "\n",
       "    .dataframe tbody tr th {\n",
       "        vertical-align: top;\n",
       "    }\n",
       "\n",
       "    .dataframe thead th {\n",
       "        text-align: right;\n",
       "    }\n",
       "</style>\n",
       "<table border=\"1\" class=\"dataframe\">\n",
       "  <thead>\n",
       "    <tr style=\"text-align: right;\">\n",
       "      <th></th>\n",
       "      <th>Species</th>\n",
       "      <th>Weight</th>\n",
       "      <th>Length1</th>\n",
       "      <th>Length2</th>\n",
       "      <th>Length3</th>\n",
       "      <th>Height</th>\n",
       "      <th>Width</th>\n",
       "    </tr>\n",
       "  </thead>\n",
       "  <tbody>\n",
       "    <tr>\n",
       "      <th>0</th>\n",
       "      <td>Bream</td>\n",
       "      <td>242.0</td>\n",
       "      <td>23.2</td>\n",
       "      <td>25.4</td>\n",
       "      <td>30.0</td>\n",
       "      <td>11.5200</td>\n",
       "      <td>4.0200</td>\n",
       "    </tr>\n",
       "    <tr>\n",
       "      <th>1</th>\n",
       "      <td>Bream</td>\n",
       "      <td>290.0</td>\n",
       "      <td>24.0</td>\n",
       "      <td>26.3</td>\n",
       "      <td>31.2</td>\n",
       "      <td>12.4800</td>\n",
       "      <td>4.3056</td>\n",
       "    </tr>\n",
       "    <tr>\n",
       "      <th>2</th>\n",
       "      <td>Bream</td>\n",
       "      <td>340.0</td>\n",
       "      <td>23.9</td>\n",
       "      <td>26.5</td>\n",
       "      <td>31.1</td>\n",
       "      <td>12.3778</td>\n",
       "      <td>4.6961</td>\n",
       "    </tr>\n",
       "    <tr>\n",
       "      <th>3</th>\n",
       "      <td>Bream</td>\n",
       "      <td>363.0</td>\n",
       "      <td>26.3</td>\n",
       "      <td>29.0</td>\n",
       "      <td>33.5</td>\n",
       "      <td>12.7300</td>\n",
       "      <td>4.4555</td>\n",
       "    </tr>\n",
       "    <tr>\n",
       "      <th>4</th>\n",
       "      <td>Bream</td>\n",
       "      <td>430.0</td>\n",
       "      <td>26.5</td>\n",
       "      <td>29.0</td>\n",
       "      <td>34.0</td>\n",
       "      <td>12.4440</td>\n",
       "      <td>5.1340</td>\n",
       "    </tr>\n",
       "  </tbody>\n",
       "</table>\n",
       "</div>"
      ],
      "text/plain": [
       "  Species  Weight  Length1  Length2  Length3   Height   Width\n",
       "0   Bream   242.0     23.2     25.4     30.0  11.5200  4.0200\n",
       "1   Bream   290.0     24.0     26.3     31.2  12.4800  4.3056\n",
       "2   Bream   340.0     23.9     26.5     31.1  12.3778  4.6961\n",
       "3   Bream   363.0     26.3     29.0     33.5  12.7300  4.4555\n",
       "4   Bream   430.0     26.5     29.0     34.0  12.4440  5.1340"
      ]
     },
     "execution_count": 2,
     "metadata": {},
     "output_type": "execute_result"
    }
   ],
   "source": [
    "df = pd.read_csv(\"Fish_dataset.csv\")\n",
    "df.head()"
   ]
  },
  {
   "cell_type": "code",
   "execution_count": 10,
   "metadata": {},
   "outputs": [
    {
     "data": {
      "text/plain": [
       "Index(['Species', 'Weight', 'Length1', 'Length2', 'Length3', 'Height',\n",
       "       'Width'],\n",
       "      dtype='object')"
      ]
     },
     "execution_count": 10,
     "metadata": {},
     "output_type": "execute_result"
    }
   ],
   "source": [
    "df.columns"
   ]
  },
  {
   "cell_type": "code",
   "execution_count": 4,
   "metadata": {},
   "outputs": [
    {
     "data": {
      "text/plain": [
       "array(['Bream', 'Roach', 'Whitefish', 'Parkki', 'Perch', 'Pike', 'Smelt'],\n",
       "      dtype=object)"
      ]
     },
     "execution_count": 4,
     "metadata": {},
     "output_type": "execute_result"
    }
   ],
   "source": [
    "df['Species'].unique()"
   ]
  },
  {
   "cell_type": "code",
   "execution_count": 5,
   "metadata": {},
   "outputs": [
    {
     "data": {
      "text/plain": [
       "Species    0\n",
       "Weight     0\n",
       "Length1    0\n",
       "Length2    0\n",
       "Length3    0\n",
       "Height     0\n",
       "Width      0\n",
       "dtype: int64"
      ]
     },
     "execution_count": 5,
     "metadata": {},
     "output_type": "execute_result"
    }
   ],
   "source": [
    "df.isnull().sum()"
   ]
  },
  {
   "cell_type": "code",
   "execution_count": 7,
   "metadata": {},
   "outputs": [
    {
     "data": {
      "text/plain": [
       "['Species']"
      ]
     },
     "execution_count": 7,
     "metadata": {},
     "output_type": "execute_result"
    }
   ],
   "source": [
    "colName = []\n",
    "for col in df.columns:\n",
    "    if df[col].dtypes == 'object':\n",
    "        colName.append(col)\n",
    "colName"
   ]
  },
  {
   "cell_type": "code",
   "execution_count": 9,
   "metadata": {},
   "outputs": [
    {
     "name": "stdout",
     "output_type": "stream",
     "text": [
      "Feature :  Width\n",
      "Mapping :  {'Bream': 0, 'Parkki': 1, 'Perch': 2, 'Pike': 3, 'Roach': 4, 'Smelt': 5, 'Whitefish': 6}\n"
     ]
    }
   ],
   "source": [
    "le = LabelEncoder()\n",
    "\n",
    "for i in colName:\n",
    "    df[i] = le.fit_transform(df[i])\n",
    "\n",
    "    le_name_mapping = dict(zip(le.classes_, le.transform(le.classes_)))\n",
    "    print(\"Feature : \", i)\n",
    "    print(\"Mapping : \", le_name_mapping)"
   ]
  },
  {
   "cell_type": "code",
   "execution_count": 12,
   "metadata": {},
   "outputs": [
    {
     "name": "stdout",
     "output_type": "stream",
     "text": [
      "(159, 6)\n",
      "(159, 1)\n"
     ]
    }
   ],
   "source": [
    "x = df[['Weight', 'Length1', 'Length2', 'Length3', 'Height','Width']]\n",
    "y = df[['Species']]\n",
    "print(x.shape)\n",
    "print(y.shape)"
   ]
  },
  {
   "cell_type": "code",
   "execution_count": null,
   "metadata": {},
   "outputs": [],
   "source": []
  },
  {
   "cell_type": "code",
   "execution_count": 15,
   "metadata": {},
   "outputs": [
    {
     "data": {
      "text/plain": [
       "array([[-4.38072172e-01, -3.05788578e-01, -2.82303007e-01,\n",
       "        -1.06020232e-01,  5.96578670e-01, -2.36528948e-01],\n",
       "       [-3.03562184e-01, -2.25507242e-01, -1.98053663e-01,\n",
       "        -2.33668373e-03,  8.21260549e-01, -6.65789457e-02],\n",
       "       [-1.63447613e-01, -2.35542409e-01, -1.79331587e-01,\n",
       "        -1.09769794e-02,  7.97341291e-01,  1.65793169e-01],\n",
       "       [-9.89949100e-02,  5.30159764e-03,  5.46943678e-02,\n",
       "         1.96390116e-01,  8.79771455e-01,  2.26210031e-02],\n",
       "       [ 8.87586153e-02,  2.53719316e-02,  5.46943678e-02,\n",
       "         2.39591594e-01,  8.12834979e-01,  4.26371272e-01],\n",
       "       [ 1.44804444e-01,  5.54774324e-02,  1.20221635e-01,\n",
       "         3.00073664e-01,  1.08395111e+00,  3.03431249e-01],\n",
       "       [ 2.84919015e-01,  5.54774324e-02,  1.20221635e-01,\n",
       "         2.82793073e-01,  1.21901769e+00,  5.12357880e-01],\n",
       "       [-2.33330416e-02,  1.35758768e-01,  1.48304750e-01,\n",
       "         3.25994551e-01,  8.65728838e-01,  1.62163285e-01],\n",
       "       [ 1.44804444e-01,  1.35758768e-01,  1.48304750e-01,\n",
       "         3.34634847e-01,  1.17815367e+00,  2.53683979e-01],\n",
       "       [ 2.84919015e-01,  2.26075271e-01,  2.13832017e-01,\n",
       "         4.29678099e-01,  1.23004114e+00,  3.22473266e-01],\n",
       "       [ 2.14861729e-01,  2.16040104e-01,  2.41915132e-01,\n",
       "         4.29678099e-01,  1.23851352e+00,  4.08638393e-01],\n",
       "       [ 2.84919015e-01,  2.46145605e-01,  2.41915132e-01,\n",
       "         4.29678099e-01,  1.26393066e+00,  2.36308139e-01],\n",
       "       [ 2.84919015e-01,  2.86286273e-01,  2.88720322e-01,\n",
       "         4.46958690e-01,  1.12064915e+00, -2.94470124e-02],\n",
       "       [-1.63447613e-01,  3.26426940e-01,  3.35525513e-01,\n",
       "         5.24721351e-01,  1.15662166e+00,  3.89953414e-01],\n",
       "       [ 5.65148157e-01,  3.16391773e-01,  3.35525513e-01,\n",
       "         5.16081055e-01,  1.40037809e+00,  4.48269591e-01],\n",
       "       [ 5.65148157e-01,  3.16391773e-01,  3.35525513e-01,\n",
       "         5.16081055e-01,  1.51356159e+00,  6.91769385e-01],\n",
       "       [ 8.45377299e-01,  4.16743443e-01,  4.29135895e-01,\n",
       "         6.11124307e-01,  1.37837799e+00,  5.16463815e-01],\n",
       "       [ 8.45377299e-01,  4.16743443e-01,  4.29135895e-01,\n",
       "         6.28404899e-01,  1.39653978e+00,  4.64157774e-01],\n",
       "       [ 5.93171071e-01,  4.66919278e-01,  4.75941086e-01,\n",
       "         6.37045194e-01,  1.55920010e+00,  4.26252259e-01],\n",
       "       [ 7.05262728e-01,  4.76954445e-01,  4.75941086e-01,\n",
       "         6.45685490e-01,  1.28789673e+00,  7.79600689e-01],\n",
       "       [ 4.95090871e-01,  5.07059946e-01,  5.22746277e-01,\n",
       "         7.14807855e-01,  1.44112509e+00,  6.85521223e-01],\n",
       "       [ 8.03342928e-01,  5.17095113e-01,  5.22746277e-01,\n",
       "         6.88886968e-01,  1.64359623e+00,  5.67044173e-01],\n",
       "       [ 6.21193985e-01,  5.27130280e-01,  5.69551468e-01,\n",
       "         7.32088446e-01,  1.53338508e+00,  5.13309981e-01],\n",
       "       [ 7.89331471e-01,  5.57235780e-01,  6.16356659e-01,\n",
       "         8.09851107e-01,  1.52072332e+00,  1.01941109e+00],\n",
       "       [ 8.45377299e-01,  5.67270947e-01,  6.16356659e-01,\n",
       "         8.01210812e-01,  1.70138160e+00,  6.97124952e-01],\n",
       "       [ 9.15434585e-01,  5.57235780e-01,  6.16356659e-01,\n",
       "         8.35771994e-01,  1.72934981e+00,  9.73353212e-01],\n",
       "       [ 9.01423127e-01,  5.77306114e-01,  6.16356659e-01,\n",
       "         8.09851107e-01,  1.72977109e+00,  9.95251532e-01],\n",
       "       [ 8.84609379e-01,  6.47552283e-01,  7.09967041e-01,\n",
       "         8.87613768e-01,  1.76609466e+00,  8.53328999e-01],\n",
       "       [ 1.26572101e+00,  6.57587450e-01,  7.09967041e-01,\n",
       "         8.96254064e-01,  1.85329931e+00,  1.05975637e+00],\n",
       "       [ 1.68606473e+00,  7.27833619e-01,  8.03577423e-01,\n",
       "         9.82657020e-01,  2.33716110e+00,  1.30051887e+00],\n",
       "       [ 1.46188141e+00,  8.78361123e-01,  9.43992995e-01,\n",
       "         1.11226146e+00,  2.12181756e+00,  1.12396367e+00],\n",
       "       [ 1.55996161e+00,  8.78361123e-01,  9.43992995e-01,\n",
       "         1.10362116e+00,  2.13284102e+00,  1.11545426e+00],\n",
       "       [ 1.47589287e+00,  9.98783127e-01,  1.03760338e+00,\n",
       "         1.21594500e+00,  2.28969706e+00,  1.38781462e+00],\n",
       "       [ 1.61600744e+00,  1.11920513e+00,  1.17801895e+00,\n",
       "         1.26778678e+00,  2.26189267e+00,  1.38638646e+00],\n",
       "       [ 1.54595015e+00,  1.17941613e+00,  1.17801895e+00,\n",
       "         1.31962855e+00,  2.02506393e+00,  1.16216671e+00],\n",
       "       [-1.00413504e+00, -1.33941077e+00, -1.34010032e+00,\n",
       "        -1.29838103e+00, -1.12897816e+00, -1.27907938e+00],\n",
       "       [-9.22868588e-01, -9.78144764e-01, -9.56297756e-01,\n",
       "        -9.44128909e-01, -8.59570547e-01, -9.49592982e-01],\n",
       "       [-8.97647965e-01, -8.77793095e-01, -9.00131527e-01,\n",
       "        -8.66366249e-01, -7.94670250e-01, -9.00381269e-01],\n",
       "       [-8.72427342e-01, -8.07546926e-01, -8.06521145e-01,\n",
       "        -7.79963292e-01, -7.85074461e-01, -7.39595237e-01],\n",
       "       [-7.79951725e-01, -7.67406258e-01, -7.87799069e-01,\n",
       "        -7.79963292e-01, -6.44788713e-01, -5.01808049e-01],\n",
       "       [-1.11622670e+00, -7.27265590e-01, -7.40993878e-01,\n",
       "        -7.28121518e-01, -5.84124605e-01, -6.34269080e-01],\n",
       "       [-8.07974640e-01, -7.17230423e-01, -7.12910764e-01,\n",
       "        -7.02200631e-01, -6.56093020e-01, -6.08026800e-01],\n",
       "       [-7.79951725e-01, -6.87124923e-01, -6.94188687e-01,\n",
       "        -6.50358857e-01, -6.68520736e-01, -6.68366192e-01],\n",
       "       [-6.95882983e-01, -5.86773253e-01, -6.00578305e-01,\n",
       "        -5.63955901e-01, -7.41097664e-01, -3.94577690e-01],\n",
       "       [-7.09894440e-01, -5.76738086e-01, -6.00578305e-01,\n",
       "        -5.98517084e-01, -5.46981882e-01, -5.17517713e-01],\n",
       "       [-6.67860069e-01, -5.76738086e-01, -5.53773114e-01,\n",
       "        -5.12114127e-01, -4.53481454e-01, -3.55363036e-01],\n",
       "       [-7.23905897e-01, -5.26562251e-01, -5.53773114e-01,\n",
       "        -5.38035014e-01, -5.66618142e-01, -6.50097757e-01],\n",
       "       [-6.67860069e-01, -5.16527084e-01, -5.53773114e-01,\n",
       "        -5.38035014e-01, -6.01724686e-01, -3.67442816e-01],\n",
       "       [-6.42639446e-01, -4.26210582e-01, -4.13357542e-01,\n",
       "        -3.47948510e-01, -3.36225599e-01, -3.46496597e-01],\n",
       "       [-6.65057777e-01, -4.26210582e-01, -4.69523771e-01,\n",
       "        -3.91149988e-01, -4.81122006e-01, -4.67889456e-01],\n",
       "       [-5.55768412e-01, -4.16175415e-01, -4.60162732e-01,\n",
       "        -3.82509692e-01, -3.68430001e-01, -1.72738191e-01],\n",
       "       [-6.11814240e-01, -2.65647910e-01, -3.01025083e-01,\n",
       "        -2.87466440e-01, -4.41030334e-01, -3.04366134e-01],\n",
       "       [-3.03562184e-01, -2.25507242e-01, -2.26136778e-01,\n",
       "        -1.75142597e-01, -2.20454374e-02,  4.71971064e-02],\n",
       "       [-3.54003429e-01, -1.25155573e-01, -1.32526396e-01,\n",
       "        -5.41784576e-02, -9.43181086e-02,  2.11910554e-01],\n",
       "       [-2.33330416e-02,  3.26426940e-01,  3.07442399e-01,\n",
       "         3.25994551e-01,  1.20299895e-01,  5.57880202e-01],\n",
       "       [-3.59608012e-01, -2.65647910e-01, -2.26136778e-01,\n",
       "        -2.18344075e-01, -1.38224692e-01, -1.01092602e-01],\n",
       "       [-3.59608012e-01, -2.15472075e-01, -1.79331587e-01,\n",
       "        -1.66502301e-01, -1.93224944e-01, -1.00557045e-01],\n",
       "       [-2.58725521e-01, -6.49445711e-02, -3.89160141e-02,\n",
       "        -3.68978663e-02, -4.51689475e-02,  1.57164755e-01],\n",
       "       [ 3.97010672e-01,  2.26075271e-01,  2.41915132e-01,\n",
       "         2.39591594e-01,  4.14960818e-01,  1.27612128e+00],\n",
       "       [ 1.12560644e+00,  7.47903953e-01,  7.47411194e-01,\n",
       "         7.23448151e-01,  6.53029992e-01,  1.28302402e+00],\n",
       "       [ 1.68606473e+00,  1.10916996e+00,  1.08440857e+00,\n",
       "         1.06041968e+00,  7.91771053e-01,  1.25410395e+00],\n",
       "       [-9.62100668e-01, -1.27919977e+00, -1.28393409e+00,\n",
       "        -1.27246014e+00, -4.96990164e-01, -1.24426820e+00],\n",
       "       [-9.48089211e-01, -1.19891844e+00, -1.20904579e+00,\n",
       "        -1.19469748e+00, -5.60252156e-01, -1.25158747e+00],\n",
       "       [-8.64020468e-01, -9.98215098e-01, -1.00310295e+00,\n",
       "        -9.87330388e-01, -3.66464035e-01, -1.03807885e+00],\n",
       "       [-7.79951725e-01, -8.77793095e-01, -8.81409451e-01,\n",
       "        -8.57725953e-01, -1.35462978e-01, -8.92228905e-01],\n",
       "       [-6.95882983e-01, -7.87476592e-01, -7.87799069e-01,\n",
       "        -7.62682701e-01, -1.83007394e-02, -6.69258786e-01],\n",
       "       [-7.23905897e-01, -7.27265590e-01, -7.22271802e-01,\n",
       "        -6.93560336e-01, -1.01433035e-01, -6.68306686e-01],\n",
       "       [-6.39837154e-01, -7.27265590e-01, -7.22271802e-01,\n",
       "        -6.93560336e-01,  9.94700123e-02, -5.99279374e-01],\n",
       "       [-7.09894440e-01, -6.46984255e-01, -6.47383496e-01,\n",
       "        -6.15797675e-01,  1.79138462e-01, -7.50008840e-01],\n",
       "       [-5.55768412e-01, -5.06491917e-01, -5.06967923e-01,\n",
       "        -4.68912649e-01,  3.21764647e-01, -4.48609413e-01],\n",
       "       [-3.51201138e-01, -3.25858912e-01, -3.19747160e-01,\n",
       "        -2.78826145e-01,  4.95471824e-01, -1.62741132e-01],\n",
       "       [-2.75539270e-01, -2.25507242e-01, -2.26136778e-01,\n",
       "        -1.92423188e-01,  5.61004039e-01, -1.09185459e-01],\n",
       "       [-1.09969318e+00, -1.88130979e+00, -1.87367950e+00,\n",
       "        -1.93776291e+00, -1.60530375e+00, -1.79083359e+00],\n",
       "       [-1.02655337e+00, -1.37955144e+00, -1.37754447e+00,\n",
       "        -1.42798547e+00, -1.27389797e+00, -1.43903233e+00],\n",
       "       [-1.00413504e+00, -1.24909427e+00, -1.25585098e+00,\n",
       "        -1.31566162e+00, -1.20462106e+00, -1.18148905e+00],\n",
       "       [-9.71908688e-01, -1.12867227e+00, -1.14351852e+00,\n",
       "        -1.21197807e+00, -1.02478194e+00, -1.06271446e+00],\n",
       "       [-9.20066296e-01, -1.05842610e+00, -1.03118606e+00,\n",
       "        -1.09965423e+00, -1.02581173e+00, -8.78304430e-01],\n",
       "       [-8.35997554e-01, -1.00825027e+00, -9.75019833e-01,\n",
       "        -1.03917216e+00, -8.77334458e-01, -6.52120971e-01],\n",
       "       [-8.97647965e-01, -9.48039264e-01, -9.09492565e-01,\n",
       "        -1.02189157e+00, -8.82764270e-01, -7.70062464e-01],\n",
       "       [-8.92043382e-01, -9.07898596e-01, -8.81409451e-01,\n",
       "        -9.52769205e-01, -7.80580824e-01, -8.13621079e-01],\n",
       "       [-8.78031925e-01, -8.47687594e-01, -8.25243222e-01,\n",
       "        -9.00927431e-01, -8.97181357e-01, -8.21594923e-01],\n",
       "       [-8.78031925e-01, -8.07546926e-01, -7.87799069e-01,\n",
       "        -8.83646840e-01, -9.10194183e-01, -9.79167615e-01],\n",
       "       [-8.07974640e-01, -7.27265590e-01, -6.94188687e-01,\n",
       "        -7.54042405e-01, -7.67310550e-01, -5.13233259e-01],\n",
       "       [-7.93963182e-01, -7.27265590e-01, -6.94188687e-01,\n",
       "        -7.54042405e-01, -7.14650735e-01, -6.60511360e-01],\n",
       "       [-7.65940268e-01, -7.27265590e-01, -6.94188687e-01,\n",
       "        -7.54042405e-01, -7.67310550e-01, -4.46288668e-01],\n",
       "       [-7.51928811e-01, -6.97160090e-01, -6.66105573e-01,\n",
       "        -7.28121518e-01, -6.05469384e-01, -5.25729583e-01],\n",
       "       [-7.79951725e-01, -6.26913921e-01, -6.00578305e-01,\n",
       "        -6.67639449e-01, -6.69597337e-01, -6.01005056e-01],\n",
       "       [-7.79951725e-01, -6.26913921e-01, -6.00578305e-01,\n",
       "        -6.67639449e-01, -7.79597840e-01, -5.31085150e-01],\n",
       "       [-7.51928811e-01, -6.26913921e-01, -6.00578305e-01,\n",
       "        -6.67639449e-01, -6.69597337e-01, -5.31085150e-01],\n",
       "       [-7.37917354e-01, -6.26913921e-01, -6.00578305e-01,\n",
       "        -6.67639449e-01, -7.24597589e-01, -5.31085150e-01],\n",
       "       [-8.07974640e-01, -6.26913921e-01, -6.00578305e-01,\n",
       "        -6.67639449e-01, -8.07097966e-01, -2.51405524e-01],\n",
       "       [-7.51928811e-01, -5.76738086e-01, -5.53773114e-01,\n",
       "        -6.24437970e-01, -7.29044417e-01, -4.72173910e-01],\n",
       "       [-6.95882983e-01, -5.76738086e-01, -5.53773114e-01,\n",
       "        -6.24437970e-01, -5.09979585e-01, -4.72173910e-01],\n",
       "       [-7.09894440e-01, -5.56667752e-01, -5.35051038e-01,\n",
       "        -6.07157379e-01, -7.06295377e-01, -4.68603531e-01],\n",
       "       [-6.95882983e-01, -5.26562251e-01, -5.06967923e-01,\n",
       "        -5.81236492e-01, -8.78247228e-01, -4.70983784e-01],\n",
       "       [-6.39837154e-01, -4.76386416e-01, -4.60162732e-01,\n",
       "        -5.38035014e-01, -6.30980139e-01, -4.12072543e-01],\n",
       "       [-4.85711126e-01, -4.26210582e-01, -4.13357542e-01,\n",
       "        -4.94833536e-01, -3.92723729e-01, -4.13262669e-01],\n",
       "       [-7.09894440e-01, -4.26210582e-01, -4.13357542e-01,\n",
       "        -4.94833536e-01, -6.07575777e-01, -3.52566240e-01],\n",
       "       [-5.89395909e-01, -3.65999580e-01, -3.57191312e-01,\n",
       "        -4.34351466e-01, -5.23694542e-01, -1.49768758e-01],\n",
       "       [-6.11814240e-01, -3.25858912e-01, -3.19747160e-01,\n",
       "        -4.08430579e-01, -5.92479963e-01, -4.36767659e-01],\n",
       "       [-5.64175286e-01, -2.75683077e-01, -2.63580931e-01,\n",
       "        -3.65229101e-01, -5.64043662e-01, -1.06210144e-01],\n",
       "       [-5.05327166e-01, -1.25155573e-01, -1.79331587e-01,\n",
       "        -2.78826145e-01, -4.21979182e-01, -1.62741132e-01],\n",
       "       [-2.75539270e-01, -1.05085239e-01, -1.04443281e-01,\n",
       "        -2.18344075e-01, -1.51658797e-01,  4.28334980e-01],\n",
       "       [-3.87630926e-01, -8.50149050e-02, -8.57212050e-02,\n",
       "        -2.01063484e-01, -4.22166417e-01, -4.90840925e-02],\n",
       "       [-3.73619469e-01, -8.50149050e-02, -8.57212050e-02,\n",
       "        -2.01063484e-01, -4.49221860e-01, -4.90840925e-02],\n",
       "       [-4.15653841e-01, -8.50149050e-02, -8.57212050e-02,\n",
       "        -2.01063484e-01, -3.95110974e-01,  8.84944810e-02],\n",
       "       [-4.15653841e-01, -3.48390702e-02, -3.89160141e-02,\n",
       "        -1.57862005e-01, -2.69289122e-01, -1.26918337e-01],\n",
       "       [-2.75539270e-01,  6.55125994e-02,  2.66112532e-02,\n",
       "        -9.73799359e-02, -3.24336182e-01,  1.29672843e-01],\n",
       "       [-2.19493441e-01,  1.55829102e-01,  1.48304750e-01,\n",
       "         3.22244989e-02, -3.17221256e-01,  2.10720428e-01],\n",
       "       [ 3.24151095e-01,  4.26778610e-01,  4.10413819e-01,\n",
       "         2.39591594e-01,  2.47853670e-01,  9.52406994e-01],\n",
       "       [ 4.41847334e-01,  5.77306114e-01,  5.69551468e-01,\n",
       "         4.55598986e-01,  3.00864551e-01,  1.17228278e+00],\n",
       "       [ 1.23769810e+00,  6.27481949e-01,  6.16356659e-01,\n",
       "         5.24721351e-01,  5.89182892e-01,  2.01025055e+00],\n",
       "       [ 8.03342928e-01,  7.78009454e-01,  7.56772232e-01,\n",
       "         6.71606377e-01,  4.47024794e-01,  1.45583032e+00],\n",
       "       [ 8.45377299e-01,  7.78009454e-01,  7.09967041e-01,\n",
       "         6.11124307e-01,  3.83388333e-01,  1.38251855e+00],\n",
       "       [ 8.45377299e-01,  8.28185288e-01,  8.03577423e-01,\n",
       "         7.06167559e-01,  4.36258788e-01,  1.09914954e+00],\n",
       "       [ 8.17354385e-01,  8.38220455e-01,  8.03577423e-01,\n",
       "         6.97527264e-01,  3.74635101e-01,  1.15984597e+00],\n",
       "       [ 1.40583558e+00,  1.02888863e+00,  9.90798186e-01,\n",
       "         8.78973472e-01,  5.06846345e-01,  1.83036299e+00],\n",
       "       [ 7.05262728e-01,  1.02888863e+00,  9.90798186e-01,\n",
       "         8.78973472e-01,  5.06846345e-01,  9.43481048e-01],\n",
       "       [ 1.18165227e+00,  1.03892379e+00,  9.90798186e-01,\n",
       "         8.70333177e-01,  8.09862625e-01,  1.74586404e+00],\n",
       "       [ 1.26572101e+00,  1.06902930e+00,  1.08440857e+00,\n",
       "         9.56736133e-01,  6.92208895e-01,  1.60007360e+00],\n",
       "       [ 1.40583558e+00,  1.07906446e+00,  1.08440857e+00,\n",
       "         9.74016725e-01,  6.45727831e-01,  1.67064808e+00],\n",
       "       [ 1.72809910e+00,  1.07906446e+00,  1.08440857e+00,\n",
       "         9.65376429e-01,  7.98043422e-01,  1.81191604e+00],\n",
       "       [ 1.18165227e+00,  1.08909963e+00,  1.08440857e+00,\n",
       "         9.74016725e-01,  5.06471875e-01,  1.31658557e+00],\n",
       "       [ 1.96629387e+00,  1.27976780e+00,  1.27162933e+00,\n",
       "         1.15546293e+00,  8.96201318e-01,  1.45844860e+00],\n",
       "       [ 1.68606473e+00,  1.36004914e+00,  1.36523971e+00,\n",
       "         1.20730471e+00,  6.93191878e-01,  1.70171037e+00],\n",
       "       [ 1.96629387e+00,  1.39015464e+00,  1.36523971e+00,\n",
       "         1.23322559e+00,  8.28866967e-01,  1.78460265e+00],\n",
       "       [ 1.68606473e+00,  1.40018981e+00,  1.41204490e+00,\n",
       "         1.27642707e+00,  8.50281959e-01,  2.21632088e+00],\n",
       "       [ 1.68606473e+00,  1.49050631e+00,  1.45885010e+00,\n",
       "         1.32826885e+00,  8.23320133e-01,  1.89129745e+00],\n",
       "       [-5.55768412e-01,  3.76602775e-01,  3.63608628e-01,\n",
       "         3.08713960e-01, -7.96448981e-01, -6.19987567e-01],\n",
       "       [-2.75539270e-01,  5.47200613e-01,  5.22746277e-01,\n",
       "         5.67922829e-01, -7.63729683e-01, -1.54410249e-01],\n",
       "       [-2.75539270e-01,  6.47552283e-01,  6.16356659e-01,\n",
       "         6.54325786e-01, -7.10227310e-01, -1.96879786e-02],\n",
       "       [-2.75539270e-01,  8.58290789e-01,  8.31660537e-01,\n",
       "         7.40728742e-01, -6.27843954e-01, -2.36647961e-01],\n",
       "       [ 8.87586153e-02,  9.28536958e-01,  8.97187805e-01,\n",
       "         8.01210812e-01, -3.93425860e-01,  9.46236302e-02],\n",
       "       [-1.49436156e-01,  9.78712793e-01,  9.43992995e-01,\n",
       "         8.44412290e-01, -6.02660860e-01, -2.62116659e-01],\n",
       "       [ 1.61618192e-01,  1.38011947e+00,  1.31843452e+00,\n",
       "         1.23322559e+00, -3.95766297e-01, -5.65223804e-02],\n",
       "       [ 3.12941929e-01,  1.38011947e+00,  1.31843452e+00,\n",
       "         1.23322559e+00, -5.02256146e-01,  2.47037237e-02],\n",
       "       [ 3.97010672e-01,  1.39015464e+00,  1.36523971e+00,\n",
       "         1.25914648e+00, -2.77340223e-01,  4.23752994e-01],\n",
       "       [ 2.84919015e-01,  1.58082281e+00,  1.55246048e+00,\n",
       "         1.44923299e+00, -4.70660256e-01,  2.84746270e-01],\n",
       "       [ 4.72672540e-01,  1.70124481e+00,  1.64607086e+00,\n",
       "         1.50971505e+00, -2.75935961e-01,  2.69274631e-01],\n",
       "       [ 1.04153770e+00,  1.86180749e+00,  1.83329162e+00,\n",
       "         1.72572245e+00, -3.02148847e-01,  5.70376526e-01],\n",
       "       [ 1.54595015e+00,  2.21303833e+00,  2.17965004e+00,\n",
       "         2.06269398e+00, -1.04836824e-02,  1.04357065e+00],\n",
       "       [ 2.38663758e+00,  2.58433951e+00,  2.58217468e+00,\n",
       "         2.46014758e+00,  4.01456501e-01,  1.52777344e+00],\n",
       "       [ 3.36743958e+00,  2.98574618e+00,  2.95661621e+00,\n",
       "         2.83168029e+00,  1.47214912e-01,  1.02738494e+00],\n",
       "       [ 3.22732501e+00,  2.98574618e+00,  2.95661621e+00,\n",
       "         2.83168029e+00,  1.47214912e-01,  1.02738494e+00],\n",
       "       [ 3.50755415e+00,  3.28680119e+00,  3.27489150e+00,\n",
       "         3.17729212e+00,  4.30875784e-01,  1.82238915e+00],\n",
       "       [-1.09745134e+00, -1.70067679e+00, -1.74262496e+00,\n",
       "        -1.76495700e+00, -1.69264883e+00, -2.00529431e+00],\n",
       "       [-1.09520951e+00, -1.63043062e+00, -1.67709770e+00,\n",
       "        -1.69583463e+00, -1.63806985e+00, -1.93840923e+00],\n",
       "       [-1.09661066e+00, -1.62039545e+00, -1.66773666e+00,\n",
       "        -1.69583463e+00, -1.69508288e+00, -1.94531196e+00],\n",
       "       [-1.08904447e+00, -1.59028995e+00, -1.63029251e+00,\n",
       "        -1.66127345e+00, -1.58564408e+00, -1.80749536e+00],\n",
       "       [-1.08876424e+00, -1.56018445e+00, -1.61157043e+00,\n",
       "        -1.62671227e+00, -1.61204420e+00, -1.86866784e+00],\n",
       "       [-1.09184676e+00, -1.55014928e+00, -1.60220939e+00,\n",
       "        -1.60943167e+00, -1.63661878e+00, -1.86390733e+00],\n",
       "       [-1.08820378e+00, -1.49997345e+00, -1.55540420e+00,\n",
       "        -1.56623020e+00, -1.58145470e+00, -1.86474042e+00],\n",
       "       [-1.08848401e+00, -1.49997345e+00, -1.55540420e+00,\n",
       "        -1.56623020e+00, -1.58145470e+00, -1.93489835e+00],\n",
       "       [-1.08876424e+00, -1.48993828e+00, -1.53668212e+00,\n",
       "        -1.55758990e+00, -1.58367812e+00, -1.94531196e+00],\n",
       "       [-1.08203874e+00, -1.47990311e+00, -1.51796005e+00,\n",
       "        -1.54030931e+00, -1.61035909e+00, -1.79940250e+00],\n",
       "       [-1.07867599e+00, -1.45983278e+00, -1.49923797e+00,\n",
       "        -1.53166901e+00, -1.53087787e+00, -1.87354735e+00],\n",
       "       [-1.08203874e+00, -1.41969211e+00, -1.44307174e+00,\n",
       "        -1.50574813e+00, -1.56668655e+00, -1.88140219e+00],\n",
       "       [-1.06102155e+00, -1.30930527e+00, -1.32137825e+00,\n",
       "        -1.38478399e+00, -1.42724336e+00, -1.39856804e+00],\n",
       "       [-1.06046110e+00, -1.24909427e+00, -1.25585098e+00,\n",
       "        -1.29838103e+00, -1.41334117e+00, -1.51043989e+00]])"
      ]
     },
     "execution_count": 15,
     "metadata": {},
     "output_type": "execute_result"
    }
   ],
   "source": [
    "scaler = StandardScaler()\n",
    "scaler.fit(x)\n",
    "x = scaler.transform(x)\n",
    "x"
   ]
  },
  {
   "cell_type": "code",
   "execution_count": 17,
   "metadata": {},
   "outputs": [
    {
     "name": "stdout",
     "output_type": "stream",
     "text": [
      "(127, 6)\n",
      "(32, 6)\n",
      "(127, 1)\n",
      "(32, 1)\n"
     ]
    }
   ],
   "source": [
    "x_train,x_test,y_train,y_test = train_test_split(x,y,test_size=0.2,random_state=10)\n",
    "print(x_train.shape)\n",
    "print(x_test.shape)\n",
    "print(y_train.shape)\n",
    "print(y_test.shape)"
   ]
  },
  {
   "cell_type": "code",
   "execution_count": 22,
   "metadata": {},
   "outputs": [],
   "source": [
    "model = KNeighborsClassifier(n_neighbors=int(np.sqrt(len(x_train))), metric='euclidean')"
   ]
  },
  {
   "cell_type": "code",
   "execution_count": 23,
   "metadata": {},
   "outputs": [
    {
     "name": "stderr",
     "output_type": "stream",
     "text": [
      "c:\\Users\\amalp\\anaconda3\\Lib\\site-packages\\sklearn\\neighbors\\_classification.py:215: DataConversionWarning: A column-vector y was passed when a 1d array was expected. Please change the shape of y to (n_samples,), for example using ravel().\n",
      "  return self._fit(X, y)\n"
     ]
    },
    {
     "data": {
      "text/html": [
       "<style>#sk-container-id-1 {color: black;background-color: white;}#sk-container-id-1 pre{padding: 0;}#sk-container-id-1 div.sk-toggleable {background-color: white;}#sk-container-id-1 label.sk-toggleable__label {cursor: pointer;display: block;width: 100%;margin-bottom: 0;padding: 0.3em;box-sizing: border-box;text-align: center;}#sk-container-id-1 label.sk-toggleable__label-arrow:before {content: \"▸\";float: left;margin-right: 0.25em;color: #696969;}#sk-container-id-1 label.sk-toggleable__label-arrow:hover:before {color: black;}#sk-container-id-1 div.sk-estimator:hover label.sk-toggleable__label-arrow:before {color: black;}#sk-container-id-1 div.sk-toggleable__content {max-height: 0;max-width: 0;overflow: hidden;text-align: left;background-color: #f0f8ff;}#sk-container-id-1 div.sk-toggleable__content pre {margin: 0.2em;color: black;border-radius: 0.25em;background-color: #f0f8ff;}#sk-container-id-1 input.sk-toggleable__control:checked~div.sk-toggleable__content {max-height: 200px;max-width: 100%;overflow: auto;}#sk-container-id-1 input.sk-toggleable__control:checked~label.sk-toggleable__label-arrow:before {content: \"▾\";}#sk-container-id-1 div.sk-estimator input.sk-toggleable__control:checked~label.sk-toggleable__label {background-color: #d4ebff;}#sk-container-id-1 div.sk-label input.sk-toggleable__control:checked~label.sk-toggleable__label {background-color: #d4ebff;}#sk-container-id-1 input.sk-hidden--visually {border: 0;clip: rect(1px 1px 1px 1px);clip: rect(1px, 1px, 1px, 1px);height: 1px;margin: -1px;overflow: hidden;padding: 0;position: absolute;width: 1px;}#sk-container-id-1 div.sk-estimator {font-family: monospace;background-color: #f0f8ff;border: 1px dotted black;border-radius: 0.25em;box-sizing: border-box;margin-bottom: 0.5em;}#sk-container-id-1 div.sk-estimator:hover {background-color: #d4ebff;}#sk-container-id-1 div.sk-parallel-item::after {content: \"\";width: 100%;border-bottom: 1px solid gray;flex-grow: 1;}#sk-container-id-1 div.sk-label:hover label.sk-toggleable__label {background-color: #d4ebff;}#sk-container-id-1 div.sk-serial::before {content: \"\";position: absolute;border-left: 1px solid gray;box-sizing: border-box;top: 0;bottom: 0;left: 50%;z-index: 0;}#sk-container-id-1 div.sk-serial {display: flex;flex-direction: column;align-items: center;background-color: white;padding-right: 0.2em;padding-left: 0.2em;position: relative;}#sk-container-id-1 div.sk-item {position: relative;z-index: 1;}#sk-container-id-1 div.sk-parallel {display: flex;align-items: stretch;justify-content: center;background-color: white;position: relative;}#sk-container-id-1 div.sk-item::before, #sk-container-id-1 div.sk-parallel-item::before {content: \"\";position: absolute;border-left: 1px solid gray;box-sizing: border-box;top: 0;bottom: 0;left: 50%;z-index: -1;}#sk-container-id-1 div.sk-parallel-item {display: flex;flex-direction: column;z-index: 1;position: relative;background-color: white;}#sk-container-id-1 div.sk-parallel-item:first-child::after {align-self: flex-end;width: 50%;}#sk-container-id-1 div.sk-parallel-item:last-child::after {align-self: flex-start;width: 50%;}#sk-container-id-1 div.sk-parallel-item:only-child::after {width: 0;}#sk-container-id-1 div.sk-dashed-wrapped {border: 1px dashed gray;margin: 0 0.4em 0.5em 0.4em;box-sizing: border-box;padding-bottom: 0.4em;background-color: white;}#sk-container-id-1 div.sk-label label {font-family: monospace;font-weight: bold;display: inline-block;line-height: 1.2em;}#sk-container-id-1 div.sk-label-container {text-align: center;}#sk-container-id-1 div.sk-container {/* jupyter's `normalize.less` sets `[hidden] { display: none; }` but bootstrap.min.css set `[hidden] { display: none !important; }` so we also need the `!important` here to be able to override the default hidden behavior on the sphinx rendered scikit-learn.org. See: https://github.com/scikit-learn/scikit-learn/issues/21755 */display: inline-block !important;position: relative;}#sk-container-id-1 div.sk-text-repr-fallback {display: none;}</style><div id=\"sk-container-id-1\" class=\"sk-top-container\"><div class=\"sk-text-repr-fallback\"><pre>KNeighborsClassifier(metric=&#x27;euclidean&#x27;, n_neighbors=11)</pre><b>In a Jupyter environment, please rerun this cell to show the HTML representation or trust the notebook. <br />On GitHub, the HTML representation is unable to render, please try loading this page with nbviewer.org.</b></div><div class=\"sk-container\" hidden><div class=\"sk-item\"><div class=\"sk-estimator sk-toggleable\"><input class=\"sk-toggleable__control sk-hidden--visually\" id=\"sk-estimator-id-1\" type=\"checkbox\" checked><label for=\"sk-estimator-id-1\" class=\"sk-toggleable__label sk-toggleable__label-arrow\">KNeighborsClassifier</label><div class=\"sk-toggleable__content\"><pre>KNeighborsClassifier(metric=&#x27;euclidean&#x27;, n_neighbors=11)</pre></div></div></div></div></div>"
      ],
      "text/plain": [
       "KNeighborsClassifier(metric='euclidean', n_neighbors=11)"
      ]
     },
     "execution_count": 23,
     "metadata": {},
     "output_type": "execute_result"
    }
   ],
   "source": [
    "model.fit(x_train,y_train)"
   ]
  },
  {
   "cell_type": "code",
   "execution_count": 25,
   "metadata": {},
   "outputs": [
    {
     "name": "stdout",
     "output_type": "stream",
     "text": [
      "[('Species', 2)]\n"
     ]
    }
   ],
   "source": [
    "y_pred = model.predict(x_test)\n",
    "print(list(zip(y_test,y_pred)))"
   ]
  },
  {
   "cell_type": "code",
   "execution_count": 29,
   "metadata": {},
   "outputs": [
    {
     "name": "stdout",
     "output_type": "stream",
     "text": [
      "[[6 0 0 0 0 0 0]\n",
      " [0 1 1 0 2 0 0]\n",
      " [0 0 8 0 1 0 0]\n",
      " [0 0 2 1 0 0 0]\n",
      " [0 0 5 0 0 0 0]\n",
      " [0 0 0 0 0 3 0]\n",
      " [0 0 2 0 0 0 0]]\n",
      "Classification report\n",
      "              precision    recall  f1-score   support\n",
      "\n",
      "           0       1.00      1.00      1.00         6\n",
      "           1       1.00      0.25      0.40         4\n",
      "           2       0.44      0.89      0.59         9\n",
      "           3       1.00      0.33      0.50         3\n",
      "           4       0.00      0.00      0.00         5\n",
      "           5       1.00      1.00      1.00         3\n",
      "           6       0.00      0.00      0.00         2\n",
      "\n",
      "    accuracy                           0.59        32\n",
      "   macro avg       0.63      0.50      0.50        32\n",
      "weighted avg       0.62      0.59      0.54        32\n",
      "\n",
      "Accuracy score :  0.59375\n"
     ]
    },
    {
     "name": "stderr",
     "output_type": "stream",
     "text": [
      "c:\\Users\\amalp\\anaconda3\\Lib\\site-packages\\sklearn\\metrics\\_classification.py:1344: UndefinedMetricWarning: Precision and F-score are ill-defined and being set to 0.0 in labels with no predicted samples. Use `zero_division` parameter to control this behavior.\n",
      "  _warn_prf(average, modifier, msg_start, len(result))\n",
      "c:\\Users\\amalp\\anaconda3\\Lib\\site-packages\\sklearn\\metrics\\_classification.py:1344: UndefinedMetricWarning: Precision and F-score are ill-defined and being set to 0.0 in labels with no predicted samples. Use `zero_division` parameter to control this behavior.\n",
      "  _warn_prf(average, modifier, msg_start, len(result))\n",
      "c:\\Users\\amalp\\anaconda3\\Lib\\site-packages\\sklearn\\metrics\\_classification.py:1344: UndefinedMetricWarning: Precision and F-score are ill-defined and being set to 0.0 in labels with no predicted samples. Use `zero_division` parameter to control this behavior.\n",
      "  _warn_prf(average, modifier, msg_start, len(result))\n"
     ]
    }
   ],
   "source": [
    "cfm = confusion_matrix(y_test,y_pred)\n",
    "print(cfm)\n",
    "\n",
    "print(\"Classification report\")\n",
    "print(classification_report(y_test,y_pred))\n",
    "\n",
    "acc = accuracy_score(y_test,y_pred)\n",
    "print(\"Accuracy score : \", acc)"
   ]
  },
  {
   "cell_type": "code",
   "execution_count": null,
   "metadata": {},
   "outputs": [],
   "source": []
  }
 ],
 "metadata": {
  "kernelspec": {
   "display_name": "base",
   "language": "python",
   "name": "python3"
  },
  "language_info": {
   "codemirror_mode": {
    "name": "ipython",
    "version": 3
   },
   "file_extension": ".py",
   "mimetype": "text/x-python",
   "name": "python",
   "nbconvert_exporter": "python",
   "pygments_lexer": "ipython3",
   "version": "3.11.3"
  }
 },
 "nbformat": 4,
 "nbformat_minor": 2
}
