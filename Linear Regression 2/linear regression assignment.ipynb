{
 "cells": [
  {
   "cell_type": "code",
   "execution_count": 151,
   "metadata": {},
   "outputs": [],
   "source": [
    "import numpy as np\n",
    "import pandas as pd\n",
    "import seaborn as sns\n",
    "from sklearn.model_selection import train_test_split\n",
    "from sklearn.linear_model import LinearRegression\n",
    "from sklearn.metrics import r2_score, mean_squared_error\n",
    "from scipy import stats"
   ]
  },
  {
   "cell_type": "code",
   "execution_count": 152,
   "metadata": {},
   "outputs": [
    {
     "data": {
      "text/html": [
       "<div>\n",
       "<style scoped>\n",
       "    .dataframe tbody tr th:only-of-type {\n",
       "        vertical-align: middle;\n",
       "    }\n",
       "\n",
       "    .dataframe tbody tr th {\n",
       "        vertical-align: top;\n",
       "    }\n",
       "\n",
       "    .dataframe thead th {\n",
       "        text-align: right;\n",
       "    }\n",
       "</style>\n",
       "<table border=\"1\" class=\"dataframe\">\n",
       "  <thead>\n",
       "    <tr style=\"text-align: right;\">\n",
       "      <th></th>\n",
       "      <th>Delivery Time</th>\n",
       "      <th>Sorting Time</th>\n",
       "    </tr>\n",
       "  </thead>\n",
       "  <tbody>\n",
       "    <tr>\n",
       "      <th>0</th>\n",
       "      <td>21.00</td>\n",
       "      <td>10</td>\n",
       "    </tr>\n",
       "    <tr>\n",
       "      <th>1</th>\n",
       "      <td>13.50</td>\n",
       "      <td>4</td>\n",
       "    </tr>\n",
       "    <tr>\n",
       "      <th>2</th>\n",
       "      <td>19.75</td>\n",
       "      <td>6</td>\n",
       "    </tr>\n",
       "    <tr>\n",
       "      <th>3</th>\n",
       "      <td>24.00</td>\n",
       "      <td>9</td>\n",
       "    </tr>\n",
       "    <tr>\n",
       "      <th>4</th>\n",
       "      <td>29.00</td>\n",
       "      <td>10</td>\n",
       "    </tr>\n",
       "  </tbody>\n",
       "</table>\n",
       "</div>"
      ],
      "text/plain": [
       "   Delivery Time  Sorting Time\n",
       "0          21.00            10\n",
       "1          13.50             4\n",
       "2          19.75             6\n",
       "3          24.00             9\n",
       "4          29.00            10"
      ]
     },
     "execution_count": 152,
     "metadata": {},
     "output_type": "execute_result"
    }
   ],
   "source": [
    "delivery_df = pd.read_csv(\"delivery_time.csv\")\n",
    "delivery_df.head()"
   ]
  },
  {
   "cell_type": "code",
   "execution_count": 153,
   "metadata": {},
   "outputs": [
    {
     "name": "stdout",
     "output_type": "stream",
     "text": [
      "<class 'pandas.core.frame.DataFrame'>\n",
      "RangeIndex: 21 entries, 0 to 20\n",
      "Data columns (total 2 columns):\n",
      " #   Column         Non-Null Count  Dtype  \n",
      "---  ------         --------------  -----  \n",
      " 0   Delivery Time  21 non-null     float64\n",
      " 1   Sorting Time   21 non-null     int64  \n",
      "dtypes: float64(1), int64(1)\n",
      "memory usage: 468.0 bytes\n"
     ]
    }
   ],
   "source": [
    "delivery_df.info()"
   ]
  },
  {
   "cell_type": "code",
   "execution_count": 154,
   "metadata": {},
   "outputs": [
    {
     "data": {
      "text/plain": [
       "Delivery Time    0\n",
       "Sorting Time     0\n",
       "dtype: int64"
      ]
     },
     "execution_count": 154,
     "metadata": {},
     "output_type": "execute_result"
    }
   ],
   "source": [
    "delivery_df.isnull().sum()"
   ]
  },
  {
   "cell_type": "code",
   "execution_count": 155,
   "metadata": {},
   "outputs": [
    {
     "data": {
      "text/html": [
       "<div>\n",
       "<style scoped>\n",
       "    .dataframe tbody tr th:only-of-type {\n",
       "        vertical-align: middle;\n",
       "    }\n",
       "\n",
       "    .dataframe tbody tr th {\n",
       "        vertical-align: top;\n",
       "    }\n",
       "\n",
       "    .dataframe thead th {\n",
       "        text-align: right;\n",
       "    }\n",
       "</style>\n",
       "<table border=\"1\" class=\"dataframe\">\n",
       "  <thead>\n",
       "    <tr style=\"text-align: right;\">\n",
       "      <th></th>\n",
       "      <th>Delivery Time</th>\n",
       "      <th>Sorting Time</th>\n",
       "      <th>sortingTime_Log</th>\n",
       "      <th>DeliveryTime_Log</th>\n",
       "      <th>sortingTime_sqrt</th>\n",
       "      <th>DeliveryTime_sqrt</th>\n",
       "      <th>sortingTime_exp</th>\n",
       "      <th>DeliveryTime_exp</th>\n",
       "      <th>sortingTime_boxcox</th>\n",
       "      <th>DeliveryTime_boxcox</th>\n",
       "    </tr>\n",
       "  </thead>\n",
       "  <tbody>\n",
       "    <tr>\n",
       "      <th>0</th>\n",
       "      <td>21.00</td>\n",
       "      <td>10</td>\n",
       "      <td>2.302585</td>\n",
       "      <td>3.044522</td>\n",
       "      <td>3.162278</td>\n",
       "      <td>4.582576</td>\n",
       "      <td>22026.465795</td>\n",
       "      <td>1.318816e+09</td>\n",
       "      <td>5.719365</td>\n",
       "      <td>7.818086</td>\n",
       "    </tr>\n",
       "    <tr>\n",
       "      <th>1</th>\n",
       "      <td>13.50</td>\n",
       "      <td>4</td>\n",
       "      <td>1.386294</td>\n",
       "      <td>2.602690</td>\n",
       "      <td>2.000000</td>\n",
       "      <td>3.674235</td>\n",
       "      <td>54.598150</td>\n",
       "      <td>7.294164e+05</td>\n",
       "      <td>2.338756</td>\n",
       "      <td>5.750615</td>\n",
       "    </tr>\n",
       "    <tr>\n",
       "      <th>2</th>\n",
       "      <td>19.75</td>\n",
       "      <td>6</td>\n",
       "      <td>1.791759</td>\n",
       "      <td>2.983153</td>\n",
       "      <td>2.449490</td>\n",
       "      <td>4.444097</td>\n",
       "      <td>403.428793</td>\n",
       "      <td>3.778470e+08</td>\n",
       "      <td>3.573250</td>\n",
       "      <td>7.500267</td>\n",
       "    </tr>\n",
       "    <tr>\n",
       "      <th>3</th>\n",
       "      <td>24.00</td>\n",
       "      <td>9</td>\n",
       "      <td>2.197225</td>\n",
       "      <td>3.178054</td>\n",
       "      <td>3.000000</td>\n",
       "      <td>4.898979</td>\n",
       "      <td>8103.083928</td>\n",
       "      <td>2.648912e+10</td>\n",
       "      <td>5.211954</td>\n",
       "      <td>8.547516</td>\n",
       "    </tr>\n",
       "    <tr>\n",
       "      <th>4</th>\n",
       "      <td>29.00</td>\n",
       "      <td>10</td>\n",
       "      <td>2.302585</td>\n",
       "      <td>3.367296</td>\n",
       "      <td>3.162278</td>\n",
       "      <td>5.385165</td>\n",
       "      <td>22026.465795</td>\n",
       "      <td>3.931334e+12</td>\n",
       "      <td>5.719365</td>\n",
       "      <td>9.676687</td>\n",
       "    </tr>\n",
       "  </tbody>\n",
       "</table>\n",
       "</div>"
      ],
      "text/plain": [
       "   Delivery Time  Sorting Time  sortingTime_Log  DeliveryTime_Log  \\\n",
       "0          21.00            10         2.302585          3.044522   \n",
       "1          13.50             4         1.386294          2.602690   \n",
       "2          19.75             6         1.791759          2.983153   \n",
       "3          24.00             9         2.197225          3.178054   \n",
       "4          29.00            10         2.302585          3.367296   \n",
       "\n",
       "   sortingTime_sqrt  DeliveryTime_sqrt  sortingTime_exp  DeliveryTime_exp  \\\n",
       "0          3.162278           4.582576     22026.465795      1.318816e+09   \n",
       "1          2.000000           3.674235        54.598150      7.294164e+05   \n",
       "2          2.449490           4.444097       403.428793      3.778470e+08   \n",
       "3          3.000000           4.898979      8103.083928      2.648912e+10   \n",
       "4          3.162278           5.385165     22026.465795      3.931334e+12   \n",
       "\n",
       "   sortingTime_boxcox  DeliveryTime_boxcox  \n",
       "0            5.719365             7.818086  \n",
       "1            2.338756             5.750615  \n",
       "2            3.573250             7.500267  \n",
       "3            5.211954             8.547516  \n",
       "4            5.719365             9.676687  "
      ]
     },
     "execution_count": 155,
     "metadata": {},
     "output_type": "execute_result"
    }
   ],
   "source": [
    "delivery_df['sortingTime_Log'] = np.log(delivery_df['Sorting Time'])\n",
    "delivery_df['DeliveryTime_Log'] = np.log(delivery_df['Delivery Time'])\n",
    "\n",
    "delivery_df['sortingTime_sqrt'] = np.sqrt(delivery_df['Sorting Time'])\n",
    "delivery_df['DeliveryTime_sqrt'] = np.sqrt(delivery_df['Delivery Time'])\n",
    "\n",
    "delivery_df['sortingTime_exp'] = np.exp(delivery_df['Sorting Time'])\n",
    "delivery_df['DeliveryTime_exp'] = np.exp(delivery_df['Delivery Time'])\n",
    "\n",
    "delivery_df['sortingTime_boxcox'],_ = stats.boxcox(delivery_df['Sorting Time'])\n",
    "delivery_df['DeliveryTime_boxcox'], _ = stats.boxcox(delivery_df['Delivery Time'])\n",
    "\n",
    "delivery_df.head()"
   ]
  },
  {
   "cell_type": "code",
   "execution_count": 163,
   "metadata": {},
   "outputs": [],
   "source": [
    "x = delivery_df[['Sorting Time']]\n",
    "y = delivery_df[['Delivery Time']]\n",
    "\n",
    "x_log = delivery_df[['sortingTime_Log']]\n",
    "y_log = delivery_df[['DeliveryTime_Log']]\n",
    "\n",
    "x_sqrt = delivery_df[['sortingTime_sqrt']]\n",
    "y_sqrt = delivery_df[['DeliveryTime_sqrt']]\n",
    "\n",
    "x_exp = delivery_df[['sortingTime_exp']]\n",
    "y_exp = delivery_df[['DeliveryTime_exp']]\n",
    "\n",
    "x_boxcox = delivery_df[['sortingTime_boxcox']]\n",
    "y_boxcox = delivery_df[['DeliveryTime_boxcox']]"
   ]
  },
  {
   "cell_type": "code",
   "execution_count": 164,
   "metadata": {},
   "outputs": [],
   "source": [
    "x_train,x_test,y_train,y_test = train_test_split(x,y,test_size=0.2)\n",
    "x_sqrt_train,x_srqt_test,y_sqrt_train,y_sqrt_test = train_test_split(x_sqrt,y_sqrt,test_size=0.2)\n",
    "x_log_train,x_log_test,y_log_train,y_log_test = train_test_split(x_log,y_log,test_size=0.2)\n",
    "x_exp_train,x_exp_test,y_exp_train,y_exp_test = train_test_split(x_exp,y_exp,test_size=0.2)\n",
    "x_boxcox_train,x_boxcox_test,y_boxcox_train,y_boxcox_test = train_test_split(x_boxcox,y_boxcox,test_size=0.2)"
   ]
  },
  {
   "cell_type": "code",
   "execution_count": 165,
   "metadata": {},
   "outputs": [],
   "source": [
    "model = LinearRegression()\n",
    "model_sqrt = LinearRegression()\n",
    "model_log = LinearRegression()\n",
    "model_exp = LinearRegression()\n",
    "model_boxcox = LinearRegression()"
   ]
  },
  {
   "cell_type": "code",
   "execution_count": 166,
   "metadata": {},
   "outputs": [
    {
     "data": {
      "text/html": [
       "<style>#sk-container-id-8 {color: black;background-color: white;}#sk-container-id-8 pre{padding: 0;}#sk-container-id-8 div.sk-toggleable {background-color: white;}#sk-container-id-8 label.sk-toggleable__label {cursor: pointer;display: block;width: 100%;margin-bottom: 0;padding: 0.3em;box-sizing: border-box;text-align: center;}#sk-container-id-8 label.sk-toggleable__label-arrow:before {content: \"▸\";float: left;margin-right: 0.25em;color: #696969;}#sk-container-id-8 label.sk-toggleable__label-arrow:hover:before {color: black;}#sk-container-id-8 div.sk-estimator:hover label.sk-toggleable__label-arrow:before {color: black;}#sk-container-id-8 div.sk-toggleable__content {max-height: 0;max-width: 0;overflow: hidden;text-align: left;background-color: #f0f8ff;}#sk-container-id-8 div.sk-toggleable__content pre {margin: 0.2em;color: black;border-radius: 0.25em;background-color: #f0f8ff;}#sk-container-id-8 input.sk-toggleable__control:checked~div.sk-toggleable__content {max-height: 200px;max-width: 100%;overflow: auto;}#sk-container-id-8 input.sk-toggleable__control:checked~label.sk-toggleable__label-arrow:before {content: \"▾\";}#sk-container-id-8 div.sk-estimator input.sk-toggleable__control:checked~label.sk-toggleable__label {background-color: #d4ebff;}#sk-container-id-8 div.sk-label input.sk-toggleable__control:checked~label.sk-toggleable__label {background-color: #d4ebff;}#sk-container-id-8 input.sk-hidden--visually {border: 0;clip: rect(1px 1px 1px 1px);clip: rect(1px, 1px, 1px, 1px);height: 1px;margin: -1px;overflow: hidden;padding: 0;position: absolute;width: 1px;}#sk-container-id-8 div.sk-estimator {font-family: monospace;background-color: #f0f8ff;border: 1px dotted black;border-radius: 0.25em;box-sizing: border-box;margin-bottom: 0.5em;}#sk-container-id-8 div.sk-estimator:hover {background-color: #d4ebff;}#sk-container-id-8 div.sk-parallel-item::after {content: \"\";width: 100%;border-bottom: 1px solid gray;flex-grow: 1;}#sk-container-id-8 div.sk-label:hover label.sk-toggleable__label {background-color: #d4ebff;}#sk-container-id-8 div.sk-serial::before {content: \"\";position: absolute;border-left: 1px solid gray;box-sizing: border-box;top: 0;bottom: 0;left: 50%;z-index: 0;}#sk-container-id-8 div.sk-serial {display: flex;flex-direction: column;align-items: center;background-color: white;padding-right: 0.2em;padding-left: 0.2em;position: relative;}#sk-container-id-8 div.sk-item {position: relative;z-index: 1;}#sk-container-id-8 div.sk-parallel {display: flex;align-items: stretch;justify-content: center;background-color: white;position: relative;}#sk-container-id-8 div.sk-item::before, #sk-container-id-8 div.sk-parallel-item::before {content: \"\";position: absolute;border-left: 1px solid gray;box-sizing: border-box;top: 0;bottom: 0;left: 50%;z-index: -1;}#sk-container-id-8 div.sk-parallel-item {display: flex;flex-direction: column;z-index: 1;position: relative;background-color: white;}#sk-container-id-8 div.sk-parallel-item:first-child::after {align-self: flex-end;width: 50%;}#sk-container-id-8 div.sk-parallel-item:last-child::after {align-self: flex-start;width: 50%;}#sk-container-id-8 div.sk-parallel-item:only-child::after {width: 0;}#sk-container-id-8 div.sk-dashed-wrapped {border: 1px dashed gray;margin: 0 0.4em 0.5em 0.4em;box-sizing: border-box;padding-bottom: 0.4em;background-color: white;}#sk-container-id-8 div.sk-label label {font-family: monospace;font-weight: bold;display: inline-block;line-height: 1.2em;}#sk-container-id-8 div.sk-label-container {text-align: center;}#sk-container-id-8 div.sk-container {/* jupyter's `normalize.less` sets `[hidden] { display: none; }` but bootstrap.min.css set `[hidden] { display: none !important; }` so we also need the `!important` here to be able to override the default hidden behavior on the sphinx rendered scikit-learn.org. See: https://github.com/scikit-learn/scikit-learn/issues/21755 */display: inline-block !important;position: relative;}#sk-container-id-8 div.sk-text-repr-fallback {display: none;}</style><div id=\"sk-container-id-8\" class=\"sk-top-container\"><div class=\"sk-text-repr-fallback\"><pre>LinearRegression()</pre><b>In a Jupyter environment, please rerun this cell to show the HTML representation or trust the notebook. <br />On GitHub, the HTML representation is unable to render, please try loading this page with nbviewer.org.</b></div><div class=\"sk-container\" hidden><div class=\"sk-item\"><div class=\"sk-estimator sk-toggleable\"><input class=\"sk-toggleable__control sk-hidden--visually\" id=\"sk-estimator-id-8\" type=\"checkbox\" checked><label for=\"sk-estimator-id-8\" class=\"sk-toggleable__label sk-toggleable__label-arrow\">LinearRegression</label><div class=\"sk-toggleable__content\"><pre>LinearRegression()</pre></div></div></div></div></div>"
      ],
      "text/plain": [
       "LinearRegression()"
      ]
     },
     "execution_count": 166,
     "metadata": {},
     "output_type": "execute_result"
    }
   ],
   "source": [
    "model.fit(x_train,y_train)\n",
    "model_sqrt.fit(x_sqrt_train,y_sqrt_train)\n",
    "model_exp.fit(x_exp_train,y_exp_train)\n",
    "model_log.fit(x_log_train,y_log_train)\n",
    "model_boxcox.fit(x_boxcox_train, y_boxcox_train)"
   ]
  },
  {
   "cell_type": "code",
   "execution_count": 167,
   "metadata": {},
   "outputs": [],
   "source": [
    "y_pred = model.predict(x_test)\n",
    "y_pred_sqrt = model_sqrt.predict(x_srqt_test)\n",
    "y_pred_log = model_log.predict(x_log_test)\n",
    "y_pred_exp = model_exp.predict(x_exp_test)\n",
    "y_pred_boxcox = model_boxcox.predict(x_boxcox_test)\n"
   ]
  },
  {
   "cell_type": "code",
   "execution_count": 169,
   "metadata": {},
   "outputs": [
    {
     "name": "stdout",
     "output_type": "stream",
     "text": [
      "No Transformation Score :  77.050191720921\n",
      "Log Transformation Score :  86.41356250934858\n",
      "sqrt Transformation Score :  68.29550783171236\n",
      "exp Transformation Score :  26.30539896424238\n",
      "boxcox Transformation Score :  78.99452270473854\n"
     ]
    }
   ],
   "source": [
    "print(\"No Transformation Score : \" , model.score(x_train,y_train)*100)\n",
    "print(\"Log Transformation Score : \" , model_log.score(x_log_train,y_log_train)*100)\n",
    "print(\"sqrt Transformation Score : \" , model_sqrt.score(x_sqrt_train,y_sqrt_train)*100)\n",
    "print(\"exp Transformation Score : \" , model_exp.score(x_exp_train,y_exp_train)*100)\n",
    "print(\"boxcox Transformation Score : \" , model_boxcox.score(x_boxcox_train,y_boxcox_train)*100)"
   ]
  },
  {
   "cell_type": "code",
   "execution_count": 171,
   "metadata": {},
   "outputs": [
    {
     "name": "stdout",
     "output_type": "stream",
     "text": [
      "No Transformartion\n",
      "[[1.47201409]]\n",
      "[6.85641809]\n",
      "Log Transformation\n",
      "[[0.56346649]]\n",
      "[1.75670781]\n",
      "exp Transformation\n",
      "[[58908884.62555607]]\n",
      "[-8.24537262e+10]\n",
      "sqrt Transformation\n",
      "[[0.87727638]]\n",
      "[1.86917052]\n",
      "boxcox Transformation\n",
      "[[0.76467632]]\n",
      "[3.67571182]\n"
     ]
    }
   ],
   "source": [
    "print(\"No Transformartion\")\n",
    "print(model.coef_)\n",
    "print(model.intercept_)\n",
    "\n",
    "print(\"Log Transformation\")\n",
    "print(model_log.coef_)\n",
    "print(model_log.intercept_)\n",
    "\n",
    "print(\"exp Transformation\")\n",
    "print(model_exp.coef_)\n",
    "print(model_exp.intercept_)\n",
    "\n",
    "print(\"sqrt Transformation\")\n",
    "print(model_sqrt.coef_)\n",
    "print(model_sqrt.intercept_)\n",
    "\n",
    "print(\"boxcox Transformation\")\n",
    "print(model_boxcox.coef_)\n",
    "print(model_boxcox.intercept_)"
   ]
  },
  {
   "cell_type": "code",
   "execution_count": 116,
   "metadata": {},
   "outputs": [
    {
     "name": "stdout",
     "output_type": "stream",
     "text": [
      "R-Squared :  0.11067437996307095\n",
      "RMSE :  3.505093110113077\n"
     ]
    }
   ],
   "source": [
    "r2 = r2_score(y_test,y_pred)\n",
    "print(\"R-Squared : \", r2)\n",
    "\n",
    "rmse = np.sqrt(mean_squared_error(y_test,y_pred))\n",
    "print(\"RMSE : \", rmse)"
   ]
  },
  {
   "cell_type": "code",
   "execution_count": 172,
   "metadata": {},
   "outputs": [
    {
     "name": "stdout",
     "output_type": "stream",
     "text": [
      "Log transformation\n",
      "R-Squared :  -0.3740445381764348\n",
      "RMSE :  0.24928022878182543\n"
     ]
    }
   ],
   "source": [
    "print(\"Log transformation\")\n",
    "r2 = r2_score(y_log_test,y_pred_log)\n",
    "print(\"R-Squared : \", r2)\n",
    "\n",
    "rmse = np.sqrt(mean_squared_error(y_log_test,y_pred_log))\n",
    "print(\"RMSE : \", rmse)"
   ]
  },
  {
   "cell_type": "code",
   "execution_count": 173,
   "metadata": {},
   "outputs": [
    {
     "name": "stdout",
     "output_type": "stream",
     "text": [
      "exp transformation\n",
      "R-Squared :  -10137237.630590938\n",
      "RMSE :  68376140936.64054\n"
     ]
    }
   ],
   "source": [
    "print(\"exp transformation\")\n",
    "r2 = r2_score(y_exp_test,y_pred_exp)\n",
    "print(\"R-Squared : \", r2)\n",
    "\n",
    "rmse = np.sqrt(mean_squared_error(y_exp_test,y_pred_exp))\n",
    "print(\"RMSE : \", rmse)"
   ]
  },
  {
   "cell_type": "code",
   "execution_count": 174,
   "metadata": {},
   "outputs": [
    {
     "name": "stdout",
     "output_type": "stream",
     "text": [
      "boxcox transformation\n",
      "R-Squared :  0.34716758583861684\n",
      "RMSE :  1.1692234636924206\n"
     ]
    }
   ],
   "source": [
    "print(\"boxcox transformation\")\n",
    "r2 = r2_score(y_boxcox_test,y_pred_boxcox)\n",
    "print(\"R-Squared : \", r2)\n",
    "\n",
    "rmse = np.sqrt(mean_squared_error(y_boxcox_test,y_pred_boxcox))\n",
    "print(\"RMSE : \", rmse)"
   ]
  },
  {
   "cell_type": "code",
   "execution_count": 175,
   "metadata": {},
   "outputs": [
    {
     "name": "stdout",
     "output_type": "stream",
     "text": [
      "sqrt transformation\n",
      "R-Squared :  0.7453974006474182\n",
      "RMSE :  0.41877575147573154\n"
     ]
    }
   ],
   "source": [
    "print(\"sqrt transformation\")\n",
    "r2 = r2_score(y_sqrt_test,y_pred_sqrt)\n",
    "print(\"R-Squared : \", r2)\n",
    "\n",
    "rmse = np.sqrt(mean_squared_error(y_sqrt_test,y_pred_sqrt))\n",
    "print(\"RMSE : \", rmse)"
   ]
  },
  {
   "cell_type": "markdown",
   "metadata": {},
   "source": [
    "#### SALARY PROBLEM"
   ]
  },
  {
   "cell_type": "code",
   "execution_count": 199,
   "metadata": {},
   "outputs": [
    {
     "data": {
      "text/html": [
       "<div>\n",
       "<style scoped>\n",
       "    .dataframe tbody tr th:only-of-type {\n",
       "        vertical-align: middle;\n",
       "    }\n",
       "\n",
       "    .dataframe tbody tr th {\n",
       "        vertical-align: top;\n",
       "    }\n",
       "\n",
       "    .dataframe thead th {\n",
       "        text-align: right;\n",
       "    }\n",
       "</style>\n",
       "<table border=\"1\" class=\"dataframe\">\n",
       "  <thead>\n",
       "    <tr style=\"text-align: right;\">\n",
       "      <th></th>\n",
       "      <th>YearsExperience</th>\n",
       "      <th>Salary</th>\n",
       "    </tr>\n",
       "  </thead>\n",
       "  <tbody>\n",
       "    <tr>\n",
       "      <th>0</th>\n",
       "      <td>1.1</td>\n",
       "      <td>39343.0</td>\n",
       "    </tr>\n",
       "    <tr>\n",
       "      <th>1</th>\n",
       "      <td>1.3</td>\n",
       "      <td>46205.0</td>\n",
       "    </tr>\n",
       "    <tr>\n",
       "      <th>2</th>\n",
       "      <td>1.5</td>\n",
       "      <td>37731.0</td>\n",
       "    </tr>\n",
       "    <tr>\n",
       "      <th>3</th>\n",
       "      <td>2.0</td>\n",
       "      <td>43525.0</td>\n",
       "    </tr>\n",
       "    <tr>\n",
       "      <th>4</th>\n",
       "      <td>2.2</td>\n",
       "      <td>39891.0</td>\n",
       "    </tr>\n",
       "  </tbody>\n",
       "</table>\n",
       "</div>"
      ],
      "text/plain": [
       "   YearsExperience   Salary\n",
       "0              1.1  39343.0\n",
       "1              1.3  46205.0\n",
       "2              1.5  37731.0\n",
       "3              2.0  43525.0\n",
       "4              2.2  39891.0"
      ]
     },
     "execution_count": 199,
     "metadata": {},
     "output_type": "execute_result"
    }
   ],
   "source": [
    "salary_df = pd.read_csv(\"Salary_Data.csv\")\n",
    "salary_df.head()"
   ]
  },
  {
   "cell_type": "code",
   "execution_count": 200,
   "metadata": {},
   "outputs": [
    {
     "name": "stdout",
     "output_type": "stream",
     "text": [
      "<class 'pandas.core.frame.DataFrame'>\n",
      "RangeIndex: 30 entries, 0 to 29\n",
      "Data columns (total 2 columns):\n",
      " #   Column           Non-Null Count  Dtype  \n",
      "---  ------           --------------  -----  \n",
      " 0   YearsExperience  30 non-null     float64\n",
      " 1   Salary           30 non-null     float64\n",
      "dtypes: float64(2)\n",
      "memory usage: 612.0 bytes\n"
     ]
    }
   ],
   "source": [
    "salary_df.info()"
   ]
  },
  {
   "cell_type": "code",
   "execution_count": 201,
   "metadata": {},
   "outputs": [
    {
     "data": {
      "text/html": [
       "<div>\n",
       "<style scoped>\n",
       "    .dataframe tbody tr th:only-of-type {\n",
       "        vertical-align: middle;\n",
       "    }\n",
       "\n",
       "    .dataframe tbody tr th {\n",
       "        vertical-align: top;\n",
       "    }\n",
       "\n",
       "    .dataframe thead th {\n",
       "        text-align: right;\n",
       "    }\n",
       "</style>\n",
       "<table border=\"1\" class=\"dataframe\">\n",
       "  <thead>\n",
       "    <tr style=\"text-align: right;\">\n",
       "      <th></th>\n",
       "      <th>YearsExperience</th>\n",
       "      <th>Salary</th>\n",
       "    </tr>\n",
       "  </thead>\n",
       "  <tbody>\n",
       "    <tr>\n",
       "      <th>count</th>\n",
       "      <td>30.000000</td>\n",
       "      <td>30.000000</td>\n",
       "    </tr>\n",
       "    <tr>\n",
       "      <th>mean</th>\n",
       "      <td>5.313333</td>\n",
       "      <td>76003.000000</td>\n",
       "    </tr>\n",
       "    <tr>\n",
       "      <th>std</th>\n",
       "      <td>2.837888</td>\n",
       "      <td>27414.429785</td>\n",
       "    </tr>\n",
       "    <tr>\n",
       "      <th>min</th>\n",
       "      <td>1.100000</td>\n",
       "      <td>37731.000000</td>\n",
       "    </tr>\n",
       "    <tr>\n",
       "      <th>25%</th>\n",
       "      <td>3.200000</td>\n",
       "      <td>56720.750000</td>\n",
       "    </tr>\n",
       "    <tr>\n",
       "      <th>50%</th>\n",
       "      <td>4.700000</td>\n",
       "      <td>65237.000000</td>\n",
       "    </tr>\n",
       "    <tr>\n",
       "      <th>75%</th>\n",
       "      <td>7.700000</td>\n",
       "      <td>100544.750000</td>\n",
       "    </tr>\n",
       "    <tr>\n",
       "      <th>max</th>\n",
       "      <td>10.500000</td>\n",
       "      <td>122391.000000</td>\n",
       "    </tr>\n",
       "  </tbody>\n",
       "</table>\n",
       "</div>"
      ],
      "text/plain": [
       "       YearsExperience         Salary\n",
       "count        30.000000      30.000000\n",
       "mean          5.313333   76003.000000\n",
       "std           2.837888   27414.429785\n",
       "min           1.100000   37731.000000\n",
       "25%           3.200000   56720.750000\n",
       "50%           4.700000   65237.000000\n",
       "75%           7.700000  100544.750000\n",
       "max          10.500000  122391.000000"
      ]
     },
     "execution_count": 201,
     "metadata": {},
     "output_type": "execute_result"
    }
   ],
   "source": [
    "salary_df.describe()"
   ]
  },
  {
   "cell_type": "code",
   "execution_count": 202,
   "metadata": {},
   "outputs": [
    {
     "data": {
      "text/plain": [
       "YearsExperience    0\n",
       "Salary             0\n",
       "dtype: int64"
      ]
     },
     "execution_count": 202,
     "metadata": {},
     "output_type": "execute_result"
    }
   ],
   "source": [
    "salary_df.isnull().sum()"
   ]
  },
  {
   "cell_type": "code",
   "execution_count": 203,
   "metadata": {},
   "outputs": [
    {
     "data": {
      "text/html": [
       "<div>\n",
       "<style scoped>\n",
       "    .dataframe tbody tr th:only-of-type {\n",
       "        vertical-align: middle;\n",
       "    }\n",
       "\n",
       "    .dataframe tbody tr th {\n",
       "        vertical-align: top;\n",
       "    }\n",
       "\n",
       "    .dataframe thead th {\n",
       "        text-align: right;\n",
       "    }\n",
       "</style>\n",
       "<table border=\"1\" class=\"dataframe\">\n",
       "  <thead>\n",
       "    <tr style=\"text-align: right;\">\n",
       "      <th></th>\n",
       "      <th>YearsExperience</th>\n",
       "      <th>Salary</th>\n",
       "      <th>YearsExperience_Log</th>\n",
       "      <th>Salary_Log</th>\n",
       "      <th>YearsExperience_sqrt</th>\n",
       "      <th>Salary_sqrt</th>\n",
       "      <th>YearsExperience_boxcox</th>\n",
       "      <th>Salary_boxcox</th>\n",
       "    </tr>\n",
       "  </thead>\n",
       "  <tbody>\n",
       "    <tr>\n",
       "      <th>0</th>\n",
       "      <td>1.1</td>\n",
       "      <td>39343.0</td>\n",
       "      <td>0.095310</td>\n",
       "      <td>10.580073</td>\n",
       "      <td>1.048809</td>\n",
       "      <td>198.350700</td>\n",
       "      <td>0.097408</td>\n",
       "      <td>15.936022</td>\n",
       "    </tr>\n",
       "    <tr>\n",
       "      <th>1</th>\n",
       "      <td>1.3</td>\n",
       "      <td>46205.0</td>\n",
       "      <td>0.262364</td>\n",
       "      <td>10.740843</td>\n",
       "      <td>1.140175</td>\n",
       "      <td>214.953483</td>\n",
       "      <td>0.278674</td>\n",
       "      <td>16.285303</td>\n",
       "    </tr>\n",
       "    <tr>\n",
       "      <th>2</th>\n",
       "      <td>1.5</td>\n",
       "      <td>37731.0</td>\n",
       "      <td>0.405465</td>\n",
       "      <td>10.538237</td>\n",
       "      <td>1.224745</td>\n",
       "      <td>194.244691</td>\n",
       "      <td>0.445296</td>\n",
       "      <td>15.845799</td>\n",
       "    </tr>\n",
       "    <tr>\n",
       "      <th>3</th>\n",
       "      <td>2.0</td>\n",
       "      <td>43525.0</td>\n",
       "      <td>0.693147</td>\n",
       "      <td>10.681091</td>\n",
       "      <td>1.414214</td>\n",
       "      <td>208.626460</td>\n",
       "      <td>0.814970</td>\n",
       "      <td>16.155010</td>\n",
       "    </tr>\n",
       "    <tr>\n",
       "      <th>4</th>\n",
       "      <td>2.2</td>\n",
       "      <td>39891.0</td>\n",
       "      <td>0.788457</td>\n",
       "      <td>10.593906</td>\n",
       "      <td>1.483240</td>\n",
       "      <td>199.727314</td>\n",
       "      <td>0.948515</td>\n",
       "      <td>15.965914</td>\n",
       "    </tr>\n",
       "  </tbody>\n",
       "</table>\n",
       "</div>"
      ],
      "text/plain": [
       "   YearsExperience   Salary  YearsExperience_Log  Salary_Log  \\\n",
       "0              1.1  39343.0             0.095310   10.580073   \n",
       "1              1.3  46205.0             0.262364   10.740843   \n",
       "2              1.5  37731.0             0.405465   10.538237   \n",
       "3              2.0  43525.0             0.693147   10.681091   \n",
       "4              2.2  39891.0             0.788457   10.593906   \n",
       "\n",
       "   YearsExperience_sqrt  Salary_sqrt  YearsExperience_boxcox  Salary_boxcox  \n",
       "0              1.048809   198.350700                0.097408      15.936022  \n",
       "1              1.140175   214.953483                0.278674      16.285303  \n",
       "2              1.224745   194.244691                0.445296      15.845799  \n",
       "3              1.414214   208.626460                0.814970      16.155010  \n",
       "4              1.483240   199.727314                0.948515      15.965914  "
      ]
     },
     "execution_count": 203,
     "metadata": {},
     "output_type": "execute_result"
    }
   ],
   "source": [
    "salary_df['YearsExperience_Log'] = np.log(salary_df['YearsExperience'])\n",
    "salary_df['Salary_Log'] = np.log(salary_df['Salary'])\n",
    "\n",
    "salary_df['YearsExperience_sqrt'] = np.sqrt(salary_df['YearsExperience'])\n",
    "salary_df['Salary_sqrt'] = np.sqrt(salary_df['Salary'])\n",
    "\n",
    "salary_df['YearsExperience_boxcox'],_ = stats.boxcox(salary_df['YearsExperience'])\n",
    "salary_df['Salary_boxcox'], _ = stats.boxcox(salary_df['Salary'])\n",
    "\n",
    "salary_df.head()"
   ]
  },
  {
   "cell_type": "code",
   "execution_count": 204,
   "metadata": {},
   "outputs": [],
   "source": [
    "x = salary_df[['YearsExperience']]\n",
    "y = salary_df[['Salary']]\n",
    "\n",
    "x_log = salary_df[['YearsExperience_Log']]\n",
    "y_log = salary_df[['Salary_Log']]\n",
    "\n",
    "x_sqrt = salary_df[['YearsExperience_sqrt']]\n",
    "y_sqrt = salary_df[['Salary_sqrt']]\n",
    "\n",
    "x_boxcox = salary_df[['YearsExperience_boxcox']]\n",
    "y_boxcox = salary_df[['Salary_boxcox']]\n"
   ]
  },
  {
   "cell_type": "code",
   "execution_count": 205,
   "metadata": {},
   "outputs": [],
   "source": [
    "x_train,x_test,y_train,y_test = train_test_split(x,y,test_size=0.2)\n",
    "x_sqrt_train,x_srqt_test,y_sqrt_train,y_sqrt_test = train_test_split(x_sqrt,y_sqrt,test_size=0.2)\n",
    "x_log_train,x_log_test,y_log_train,y_log_test = train_test_split(x_log,y_log,test_size=0.2)\n",
    "x_boxcox_train,x_boxcox_test,y_boxcox_train,y_boxcox_test = train_test_split(x_boxcox,y_boxcox,test_size=0.2)"
   ]
  },
  {
   "cell_type": "code",
   "execution_count": 206,
   "metadata": {},
   "outputs": [],
   "source": [
    "model = LinearRegression()\n",
    "model_sqrt = LinearRegression()\n",
    "model_log = LinearRegression()\n",
    "model_boxcox = LinearRegression()"
   ]
  },
  {
   "cell_type": "code",
   "execution_count": 207,
   "metadata": {},
   "outputs": [
    {
     "data": {
      "text/html": [
       "<style>#sk-container-id-9 {color: black;background-color: white;}#sk-container-id-9 pre{padding: 0;}#sk-container-id-9 div.sk-toggleable {background-color: white;}#sk-container-id-9 label.sk-toggleable__label {cursor: pointer;display: block;width: 100%;margin-bottom: 0;padding: 0.3em;box-sizing: border-box;text-align: center;}#sk-container-id-9 label.sk-toggleable__label-arrow:before {content: \"▸\";float: left;margin-right: 0.25em;color: #696969;}#sk-container-id-9 label.sk-toggleable__label-arrow:hover:before {color: black;}#sk-container-id-9 div.sk-estimator:hover label.sk-toggleable__label-arrow:before {color: black;}#sk-container-id-9 div.sk-toggleable__content {max-height: 0;max-width: 0;overflow: hidden;text-align: left;background-color: #f0f8ff;}#sk-container-id-9 div.sk-toggleable__content pre {margin: 0.2em;color: black;border-radius: 0.25em;background-color: #f0f8ff;}#sk-container-id-9 input.sk-toggleable__control:checked~div.sk-toggleable__content {max-height: 200px;max-width: 100%;overflow: auto;}#sk-container-id-9 input.sk-toggleable__control:checked~label.sk-toggleable__label-arrow:before {content: \"▾\";}#sk-container-id-9 div.sk-estimator input.sk-toggleable__control:checked~label.sk-toggleable__label {background-color: #d4ebff;}#sk-container-id-9 div.sk-label input.sk-toggleable__control:checked~label.sk-toggleable__label {background-color: #d4ebff;}#sk-container-id-9 input.sk-hidden--visually {border: 0;clip: rect(1px 1px 1px 1px);clip: rect(1px, 1px, 1px, 1px);height: 1px;margin: -1px;overflow: hidden;padding: 0;position: absolute;width: 1px;}#sk-container-id-9 div.sk-estimator {font-family: monospace;background-color: #f0f8ff;border: 1px dotted black;border-radius: 0.25em;box-sizing: border-box;margin-bottom: 0.5em;}#sk-container-id-9 div.sk-estimator:hover {background-color: #d4ebff;}#sk-container-id-9 div.sk-parallel-item::after {content: \"\";width: 100%;border-bottom: 1px solid gray;flex-grow: 1;}#sk-container-id-9 div.sk-label:hover label.sk-toggleable__label {background-color: #d4ebff;}#sk-container-id-9 div.sk-serial::before {content: \"\";position: absolute;border-left: 1px solid gray;box-sizing: border-box;top: 0;bottom: 0;left: 50%;z-index: 0;}#sk-container-id-9 div.sk-serial {display: flex;flex-direction: column;align-items: center;background-color: white;padding-right: 0.2em;padding-left: 0.2em;position: relative;}#sk-container-id-9 div.sk-item {position: relative;z-index: 1;}#sk-container-id-9 div.sk-parallel {display: flex;align-items: stretch;justify-content: center;background-color: white;position: relative;}#sk-container-id-9 div.sk-item::before, #sk-container-id-9 div.sk-parallel-item::before {content: \"\";position: absolute;border-left: 1px solid gray;box-sizing: border-box;top: 0;bottom: 0;left: 50%;z-index: -1;}#sk-container-id-9 div.sk-parallel-item {display: flex;flex-direction: column;z-index: 1;position: relative;background-color: white;}#sk-container-id-9 div.sk-parallel-item:first-child::after {align-self: flex-end;width: 50%;}#sk-container-id-9 div.sk-parallel-item:last-child::after {align-self: flex-start;width: 50%;}#sk-container-id-9 div.sk-parallel-item:only-child::after {width: 0;}#sk-container-id-9 div.sk-dashed-wrapped {border: 1px dashed gray;margin: 0 0.4em 0.5em 0.4em;box-sizing: border-box;padding-bottom: 0.4em;background-color: white;}#sk-container-id-9 div.sk-label label {font-family: monospace;font-weight: bold;display: inline-block;line-height: 1.2em;}#sk-container-id-9 div.sk-label-container {text-align: center;}#sk-container-id-9 div.sk-container {/* jupyter's `normalize.less` sets `[hidden] { display: none; }` but bootstrap.min.css set `[hidden] { display: none !important; }` so we also need the `!important` here to be able to override the default hidden behavior on the sphinx rendered scikit-learn.org. See: https://github.com/scikit-learn/scikit-learn/issues/21755 */display: inline-block !important;position: relative;}#sk-container-id-9 div.sk-text-repr-fallback {display: none;}</style><div id=\"sk-container-id-9\" class=\"sk-top-container\"><div class=\"sk-text-repr-fallback\"><pre>LinearRegression()</pre><b>In a Jupyter environment, please rerun this cell to show the HTML representation or trust the notebook. <br />On GitHub, the HTML representation is unable to render, please try loading this page with nbviewer.org.</b></div><div class=\"sk-container\" hidden><div class=\"sk-item\"><div class=\"sk-estimator sk-toggleable\"><input class=\"sk-toggleable__control sk-hidden--visually\" id=\"sk-estimator-id-9\" type=\"checkbox\" checked><label for=\"sk-estimator-id-9\" class=\"sk-toggleable__label sk-toggleable__label-arrow\">LinearRegression</label><div class=\"sk-toggleable__content\"><pre>LinearRegression()</pre></div></div></div></div></div>"
      ],
      "text/plain": [
       "LinearRegression()"
      ]
     },
     "execution_count": 207,
     "metadata": {},
     "output_type": "execute_result"
    }
   ],
   "source": [
    "model.fit(x_train,y_train)\n",
    "model_sqrt.fit(x_sqrt_train,y_sqrt_train)\n",
    "model_log.fit(x_log_train,y_log_train)\n",
    "model_boxcox.fit(x_boxcox_train, y_boxcox_train)"
   ]
  },
  {
   "cell_type": "code",
   "execution_count": 208,
   "metadata": {},
   "outputs": [],
   "source": [
    "y_pred = model.predict(x_test)\n",
    "y_pred_sqrt = model_sqrt.predict(x_srqt_test)\n",
    "y_pred_log = model_log.predict(x_log_test)\n",
    "y_pred_boxcox = model_boxcox.predict(x_boxcox_test)\n"
   ]
  },
  {
   "cell_type": "code",
   "execution_count": 209,
   "metadata": {},
   "outputs": [
    {
     "name": "stdout",
     "output_type": "stream",
     "text": [
      "No Transformation Score :  95.95834333305253\n",
      "Log Transformation Score :  91.19651966187699\n",
      "sqrt Transformation Score :  94.9687786191766\n",
      "boxcox Transformation Score :  93.32787910623388\n"
     ]
    }
   ],
   "source": [
    "print(\"No Transformation Score : \" , model.score(x_train,y_train)*100)\n",
    "print(\"Log Transformation Score : \" , model_log.score(x_log_train,y_log_train)*100)\n",
    "print(\"sqrt Transformation Score : \" , model_sqrt.score(x_sqrt_train,y_sqrt_train)*100)\n",
    "print(\"boxcox Transformation Score : \" , model_boxcox.score(x_boxcox_train,y_boxcox_train)*100)"
   ]
  },
  {
   "cell_type": "code",
   "execution_count": 210,
   "metadata": {},
   "outputs": [
    {
     "name": "stdout",
     "output_type": "stream",
     "text": [
      "No Transformartion\n",
      "[[9237.53257476]]\n",
      "[26552.92368259]\n",
      "Log Transformation\n",
      "[[0.60026841]]\n",
      "[10.26685305]\n",
      "sqrt Transformation\n",
      "[[78.33605467]]\n",
      "[97.42011863]\n",
      "boxcox Transformation\n",
      "[[0.67237854]]\n",
      "[15.6850015]\n"
     ]
    }
   ],
   "source": [
    "print(\"No Transformartion\")\n",
    "print(model.coef_)\n",
    "print(model.intercept_)\n",
    "\n",
    "print(\"Log Transformation\")\n",
    "print(model_log.coef_)\n",
    "print(model_log.intercept_)\n",
    "\n",
    "print(\"sqrt Transformation\")\n",
    "print(model_sqrt.coef_)\n",
    "print(model_sqrt.intercept_)\n",
    "\n",
    "print(\"boxcox Transformation\")\n",
    "print(model_boxcox.coef_)\n",
    "print(model_boxcox.intercept_)"
   ]
  },
  {
   "cell_type": "code",
   "execution_count": 211,
   "metadata": {},
   "outputs": [
    {
     "name": "stdout",
     "output_type": "stream",
     "text": [
      "R-Squared :  0.9407677969931093\n",
      "RMSE :  6442.173894526046\n"
     ]
    }
   ],
   "source": [
    "r2 = r2_score(y_test,y_pred)\n",
    "print(\"R-Squared : \", r2)\n",
    "\n",
    "rmse = np.sqrt(mean_squared_error(y_test,y_pred))\n",
    "print(\"RMSE : \", rmse)"
   ]
  },
  {
   "cell_type": "code",
   "execution_count": 212,
   "metadata": {},
   "outputs": [
    {
     "name": "stdout",
     "output_type": "stream",
     "text": [
      "Log transformation\n",
      "R-Squared :  0.8527398396841676\n",
      "RMSE :  0.1343146737500836\n"
     ]
    }
   ],
   "source": [
    "print(\"Log transformation\")\n",
    "r2 = r2_score(y_log_test,y_pred_log)\n",
    "print(\"R-Squared : \", r2)\n",
    "\n",
    "rmse = np.sqrt(mean_squared_error(y_log_test,y_pred_log))\n",
    "print(\"RMSE : \", rmse)"
   ]
  },
  {
   "cell_type": "code",
   "execution_count": 213,
   "metadata": {},
   "outputs": [
    {
     "name": "stdout",
     "output_type": "stream",
     "text": [
      "boxcox transformation\n",
      "R-Squared :  0.9792868720085286\n",
      "RMSE :  0.11597703614451249\n"
     ]
    }
   ],
   "source": [
    "print(\"boxcox transformation\")\n",
    "r2 = r2_score(y_boxcox_test,y_pred_boxcox)\n",
    "print(\"R-Squared : \", r2)\n",
    "\n",
    "rmse = np.sqrt(mean_squared_error(y_boxcox_test,y_pred_boxcox))\n",
    "print(\"RMSE : \", rmse)"
   ]
  },
  {
   "cell_type": "code",
   "execution_count": 214,
   "metadata": {},
   "outputs": [
    {
     "name": "stdout",
     "output_type": "stream",
     "text": [
      "sqrt transformation\n",
      "R-Squared :  0.8468513331094205\n",
      "RMSE :  15.213727651721825\n"
     ]
    }
   ],
   "source": [
    "print(\"sqrt transformation\")\n",
    "r2 = r2_score(y_sqrt_test,y_pred_sqrt)\n",
    "print(\"R-Squared : \", r2)\n",
    "\n",
    "rmse = np.sqrt(mean_squared_error(y_sqrt_test,y_pred_sqrt))\n",
    "print(\"RMSE : \", rmse)"
   ]
  }
 ],
 "metadata": {
  "kernelspec": {
   "display_name": "base",
   "language": "python",
   "name": "python3"
  },
  "language_info": {
   "codemirror_mode": {
    "name": "ipython",
    "version": 3
   },
   "file_extension": ".py",
   "mimetype": "text/x-python",
   "name": "python",
   "nbconvert_exporter": "python",
   "pygments_lexer": "ipython3",
   "version": "3.11.3"
  }
 },
 "nbformat": 4,
 "nbformat_minor": 2
}
